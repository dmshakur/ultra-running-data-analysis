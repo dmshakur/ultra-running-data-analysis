{
 "cells": [
  {
   "cell_type": "code",
   "execution_count": 97,
   "metadata": {},
   "outputs": [],
   "source": [
    "import warnings\n",
    "warnings.filterwarnings('ignore', category=FutureWarning)\n",
    "\n",
    "import plotly.express as px\n",
    "import matplotlib.pyplot as plt\n",
    "import numpy as np\n",
    "import pandas as pd\n",
    "import seaborn as sns\n",
    "\n",
    "pd.set_option('display.float_format', '{:.2f}'.format)\n",
    "fig_path = '../figures/'"
   ]
  },
  {
   "cell_type": "code",
   "execution_count": 98,
   "metadata": {},
   "outputs": [
    {
     "data": {
      "text/plain": [
       "'\\nTo do list:\\n# 1. What distances are most popular between men and women\\n# 2. How many races occur over time\\n# 3. Where do the most racers come from\\n4. Most prominent age categories when compared to distance/length\\n5. How many races go over 1 day. WORKING ON IT\\n# 6. Who are the fastest athletes for the top 10 or so distances\\n# 7. What athletes win the most races\\n'"
      ]
     },
     "execution_count": 98,
     "metadata": {},
     "output_type": "execute_result"
    }
   ],
   "source": [
    "'''\n",
    "To do list:\n",
    "# 1. What distances are most popular between men and women\n",
    "# 2. How many races occur over time\n",
    "# 3. Where do the most racers come from\n",
    "4. Most prominent age categories when compared to distance/length\n",
    "5. How many female racers achieved 1st place overall.\n",
    "# 6. Who are the fastest athletes for the top 10 or so distances\n",
    "# 7. What athletes win the most races\n",
    "'''"
   ]
  },
  {
   "cell_type": "code",
   "execution_count": 122,
   "metadata": {},
   "outputs": [
    {
     "name": "stderr",
     "output_type": "stream",
     "text": [
      "C:\\Users\\OMEN\\AppData\\Local\\Temp\\ipykernel_14764\\1987717982.py:1: DtypeWarning:\n",
      "\n",
      "Columns (11) have mixed types. Specify dtype option on import or set low_memory=False.\n",
      "\n"
     ]
    },
    {
     "data": {
      "text/html": [
       "<div>\n",
       "<style scoped>\n",
       "    .dataframe tbody tr th:only-of-type {\n",
       "        vertical-align: middle;\n",
       "    }\n",
       "\n",
       "    .dataframe tbody tr th {\n",
       "        vertical-align: top;\n",
       "    }\n",
       "\n",
       "    .dataframe thead th {\n",
       "        text-align: right;\n",
       "    }\n",
       "</style>\n",
       "<table border=\"1\" class=\"dataframe\">\n",
       "  <thead>\n",
       "    <tr style=\"text-align: right;\">\n",
       "      <th></th>\n",
       "      <th>year_of_event</th>\n",
       "      <th>event_name</th>\n",
       "      <th>distance_or_length</th>\n",
       "      <th>no_of_finishers</th>\n",
       "      <th>total_distance</th>\n",
       "      <th>athlete_club</th>\n",
       "      <th>athlete_country</th>\n",
       "      <th>birth_year</th>\n",
       "      <th>gender</th>\n",
       "      <th>age_category</th>\n",
       "      <th>average_speed</th>\n",
       "      <th>athlete_id</th>\n",
       "      <th>race_metric</th>\n",
       "      <th>start_date</th>\n",
       "      <th>end_date</th>\n",
       "      <th>fastest_time</th>\n",
       "    </tr>\n",
       "  </thead>\n",
       "  <tbody>\n",
       "    <tr>\n",
       "      <th>0</th>\n",
       "      <td>2018</td>\n",
       "      <td>Selva Costera (CHI)</td>\n",
       "      <td>50.00</td>\n",
       "      <td>22</td>\n",
       "      <td>0.00</td>\n",
       "      <td>Tnfrc</td>\n",
       "      <td>CHI</td>\n",
       "      <td>1978</td>\n",
       "      <td>M</td>\n",
       "      <td>M35</td>\n",
       "      <td>10.286</td>\n",
       "      <td>0</td>\n",
       "      <td>km</td>\n",
       "      <td>2018-01-06</td>\n",
       "      <td>2018-01-06</td>\n",
       "      <td>0 days 04:51:39</td>\n",
       "    </tr>\n",
       "    <tr>\n",
       "      <th>1</th>\n",
       "      <td>2018</td>\n",
       "      <td>Selva Costera (CHI)</td>\n",
       "      <td>50.00</td>\n",
       "      <td>22</td>\n",
       "      <td>0.00</td>\n",
       "      <td>Roberto Echeverría</td>\n",
       "      <td>CHI</td>\n",
       "      <td>1981</td>\n",
       "      <td>M</td>\n",
       "      <td>M35</td>\n",
       "      <td>9.501</td>\n",
       "      <td>1</td>\n",
       "      <td>km</td>\n",
       "      <td>2018-01-06</td>\n",
       "      <td>2018-01-06</td>\n",
       "      <td>0 days 05:15:45</td>\n",
       "    </tr>\n",
       "    <tr>\n",
       "      <th>2</th>\n",
       "      <td>2018</td>\n",
       "      <td>Selva Costera (CHI)</td>\n",
       "      <td>50.00</td>\n",
       "      <td>22</td>\n",
       "      <td>0.00</td>\n",
       "      <td>Puro Trail Osorno</td>\n",
       "      <td>CHI</td>\n",
       "      <td>1987</td>\n",
       "      <td>M</td>\n",
       "      <td>M23</td>\n",
       "      <td>9.472</td>\n",
       "      <td>2</td>\n",
       "      <td>km</td>\n",
       "      <td>2018-01-06</td>\n",
       "      <td>2018-01-06</td>\n",
       "      <td>0 days 05:16:44</td>\n",
       "    </tr>\n",
       "    <tr>\n",
       "      <th>3</th>\n",
       "      <td>2018</td>\n",
       "      <td>Selva Costera (CHI)</td>\n",
       "      <td>50.00</td>\n",
       "      <td>22</td>\n",
       "      <td>0.00</td>\n",
       "      <td>Columbia</td>\n",
       "      <td>ARG</td>\n",
       "      <td>1976</td>\n",
       "      <td>M</td>\n",
       "      <td>M40</td>\n",
       "      <td>8.976</td>\n",
       "      <td>3</td>\n",
       "      <td>km</td>\n",
       "      <td>2018-01-06</td>\n",
       "      <td>2018-01-06</td>\n",
       "      <td>0 days 05:34:13</td>\n",
       "    </tr>\n",
       "    <tr>\n",
       "      <th>4</th>\n",
       "      <td>2018</td>\n",
       "      <td>Selva Costera (CHI)</td>\n",
       "      <td>50.00</td>\n",
       "      <td>22</td>\n",
       "      <td>0.00</td>\n",
       "      <td>Baguales Trail</td>\n",
       "      <td>CHI</td>\n",
       "      <td>1992</td>\n",
       "      <td>M</td>\n",
       "      <td>M23</td>\n",
       "      <td>8.469</td>\n",
       "      <td>4</td>\n",
       "      <td>km</td>\n",
       "      <td>2018-01-06</td>\n",
       "      <td>2018-01-06</td>\n",
       "      <td>0 days 05:54:14</td>\n",
       "    </tr>\n",
       "  </tbody>\n",
       "</table>\n",
       "</div>"
      ],
      "text/plain": [
       "   year_of_event           event_name  distance_or_length  no_of_finishers  \\\n",
       "0           2018  Selva Costera (CHI)               50.00               22   \n",
       "1           2018  Selva Costera (CHI)               50.00               22   \n",
       "2           2018  Selva Costera (CHI)               50.00               22   \n",
       "3           2018  Selva Costera (CHI)               50.00               22   \n",
       "4           2018  Selva Costera (CHI)               50.00               22   \n",
       "\n",
       "   total_distance        athlete_club athlete_country  birth_year gender  \\\n",
       "0            0.00               Tnfrc             CHI        1978      M   \n",
       "1            0.00  Roberto Echeverría             CHI        1981      M   \n",
       "2            0.00   Puro Trail Osorno             CHI        1987      M   \n",
       "3            0.00            Columbia             ARG        1976      M   \n",
       "4            0.00      Baguales Trail             CHI        1992      M   \n",
       "\n",
       "  age_category average_speed  athlete_id race_metric  start_date    end_date  \\\n",
       "0          M35        10.286           0          km  2018-01-06  2018-01-06   \n",
       "1          M35         9.501           1          km  2018-01-06  2018-01-06   \n",
       "2          M23         9.472           2          km  2018-01-06  2018-01-06   \n",
       "3          M40         8.976           3          km  2018-01-06  2018-01-06   \n",
       "4          M23         8.469           4          km  2018-01-06  2018-01-06   \n",
       "\n",
       "     fastest_time  \n",
       "0 0 days 04:51:39  \n",
       "1 0 days 05:15:45  \n",
       "2 0 days 05:16:44  \n",
       "3 0 days 05:34:13  \n",
       "4 0 days 05:54:14  "
      ]
     },
     "execution_count": 122,
     "metadata": {},
     "output_type": "execute_result"
    }
   ],
   "source": [
    "df = pd.read_csv('../data/ultra_marathons_data_cleaned.csv')\n",
    "try:\n",
    "    df.drop('Unnamed: 0', axis=1, inplace=True)\n",
    "except:\n",
    "    pass\n",
    "df['fastest_time'] = pd.to_timedelta(df['fastest_time'], errors = 'coerce')\n",
    "df.head()"
   ]
  },
  {
   "cell_type": "code",
   "execution_count": 100,
   "metadata": {},
   "outputs": [
    {
     "data": {
      "text/plain": [
       "year_of_event            0\n",
       "event_name               0\n",
       "distance_or_length    1436\n",
       "no_of_finishers          0\n",
       "total_distance           2\n",
       "athlete_club            42\n",
       "athlete_country          3\n",
       "birth_year               0\n",
       "gender                   7\n",
       "age_category             0\n",
       "average_speed          224\n",
       "athlete_id               0\n",
       "race_metric           1436\n",
       "start_date               0\n",
       "end_date                19\n",
       "fastest_time           189\n",
       "dtype: int64"
      ]
     },
     "execution_count": 100,
     "metadata": {},
     "output_type": "execute_result"
    }
   ],
   "source": [
    "df.isnull().sum()"
   ]
  },
  {
   "cell_type": "code",
   "execution_count": 101,
   "metadata": {},
   "outputs": [
    {
     "data": {
      "text/plain": [
       "race_metric\n",
       "km       6156513\n",
       "mi        776590\n",
       "hours     514466\n",
       "days       12190\n",
       "Name: count, dtype: int64"
      ]
     },
     "execution_count": 101,
     "metadata": {},
     "output_type": "execute_result"
    }
   ],
   "source": [
    "df['race_metric'].value_counts()"
   ]
  },
  {
   "cell_type": "code",
   "execution_count": 102,
   "metadata": {},
   "outputs": [
    {
     "data": {
      "image/png": "[encoded data removed]",
      "text/plain": [
       "<Figure size 1000x2500 with 4 Axes>"
      ]
     },
     "metadata": {},
     "output_type": "display_data"
    }
   ],
   "source": [
    "fig, ax = plt.subplots(4, 1, figsize=(10, 25))\n",
    "sns.set_palette('pastel')\n",
    "sns.set_style('darkgrid')\n",
    "for metric, i in [\n",
    "    ('km', 0),\n",
    "    ('mi', 1),\n",
    "    ('hours', 2),\n",
    "    ('days', 3)\n",
    "]:\n",
    "    temp_df = df[['gender', 'distance_or_length', 'race_metric']\n",
    "                 ][df['race_metric'] == metric].value_counts().reset_index()\n",
    "    temp_df.columns = ['Gender', 'Distance', 'Metric', 'Count']\n",
    "\n",
    "    sns.histplot(data=temp_df, x='Distance',\n",
    "                 hue='Gender', multiple='stack', ax=ax[i])\n",
    "    ax[i].set_title(f'Amount of runners that run races of X {metric}')\n",
    "    ax[i].set_xlabel(f'Race metric: {metric}')\n",
    "    \n",
    "fig.savefig(f'{fig_path}count_of_runners_by_distance.jpg')"
   ]
  },
  {
   "cell_type": "code",
   "execution_count": 103,
   "metadata": {},
   "outputs": [
    {
     "data": {
      "image/png": "[encoded data removed]",
      "text/plain": [
       "<Figure size 1000x500 with 2 Axes>"
      ]
     },
     "metadata": {},
     "output_type": "display_data"
    }
   ],
   "source": [
    "# Ultra marathon race popularity over time\n",
    "fig, ax1 = plt.subplots(figsize = (10, 5))\n",
    "\n",
    "dates_df = df['start_date'].value_counts().reset_index().sort_values(by = 'start_date', ascending = True)\n",
    "dates_df['cumsum'] = dates_df['count'].cumsum()\n",
    "races_per_day = df['start_date'].value_counts().sort_index()\n",
    "\n",
    "ax1.plot(races_per_day.index, races_per_day, 'r-', label = 'Races per month')\n",
    "ax1.xaxis.set_major_locator(plt.MaxNLocator(10))\n",
    "ax1.set_title('Ultra marthon popularity over time')\n",
    "ax1.set_xlabel('Dates')\n",
    "ax1.set_ylabel('')\n",
    "ax1.tick_params(colors = 'red', axis = 'y')\n",
    "ax1.yaxis.set_major_formatter(lambda x, pos: '%1.0fK' % (x * 1e-3))\n",
    "ax1.grid(False)\n",
    "\n",
    "ax2 = ax1.twinx()\n",
    "ax2.plot(dates_df['start_date'], dates_df['cumsum'], 'b-', label = 'Cumulative races over time')\n",
    "ax2.tick_params(colors = 'blue')\n",
    "ax2.ticklabel_format(style = 'plain', axis = 'y')\n",
    "ax2.yaxis.set_major_formatter(lambda x, pos: '%1.0fK' % (x * 1e-3))\n",
    "ax2.grid(False)\n",
    "\n",
    "plt.xticks(rotation = 45)\n",
    "fig.legend(loc = 'upper left')\n",
    "\n",
    "fig.savefig(f'{fig_path}ultras_popularity_over_time.jpg')"
   ]
  },
  {
   "cell_type": "code",
   "execution_count": 104,
   "metadata": {},
   "outputs": [
    {
     "data": {
      "application/vnd.plotly.v1+json": {
       "config": {
        "plotlyServerURL": "https://plot.ly"
       },
       "data": [
        {
         "coloraxis": "coloraxis",
         "customdata": [
          [
           1389960,
           "1.4 M",
           "USA"
          ],
          [
           1170884,
           "1.2 M",
           "FRA"
          ],
          [
           877630,
           "877.6 K",
           "RSA"
          ],
          [
           603132,
           "603.1 K",
           "JPN"
          ],
          [
           442056,
           "442.1 K",
           "GER"
          ],
          [
           347153,
           "347.2 K",
           "GBR"
          ],
          [
           344076,
           "344.1 K",
           "ITA"
          ],
          [
           232311,
           "232.3 K",
           "ESP"
          ],
          [
           219944,
           "219.9 K",
           "CHN"
          ],
          [
           150761,
           "150.8 K",
           "AUS"
          ],
          [
           143805,
           "143.8 K",
           "TPE"
          ],
          [
           126687,
           "126.7 K",
           "SUI"
          ],
          [
           119860,
           "119.9 K",
           "POL"
          ],
          [
           114081,
           "114.1 K",
           "CAN"
          ],
          [
           77868,
           "77.9 K",
           "BEL"
          ],
          [
           75184,
           "75.2 K",
           "KOR"
          ],
          [
           71258,
           "71.3 K",
           "SWE"
          ],
          [
           59642,
           "59.6 K",
           "HKG"
          ],
          [
           57558,
           "57.6 K",
           "NED"
          ],
          [
           49534,
           "49.5 K",
           "PHI"
          ],
          [
           47502,
           "47.5 K",
           "HUN"
          ],
          [
           46234,
           "46.2 K",
           "AUT"
          ],
          [
           45983,
           "46.0 K",
           "RUS"
          ],
          [
           43708,
           "43.7 K",
           "THA"
          ],
          [
           42802,
           "42.8 K",
           "MAS"
          ],
          [
           37595,
           "37.6 K",
           "POR"
          ],
          [
           36694,
           "36.7 K",
           "CZE"
          ],
          [
           35124,
           "35.1 K",
           "ARG"
          ],
          [
           35009,
           "35.0 K",
           "NZL"
          ],
          [
           32493,
           "32.5 K",
           "NOR"
          ],
          [
           31027,
           "31.0 K",
           "BRA"
          ],
          [
           27010,
           "27.0 K",
           "DEN"
          ],
          [
           26420,
           "26.4 K",
           "FIN"
          ],
          [
           25446,
           "25.4 K",
           "GRE"
          ],
          [
           25313,
           "25.3 K",
           "MEX"
          ],
          [
           21357,
           "21.4 K",
           "IRL"
          ],
          [
           17304,
           "17.3 K",
           "SVK"
          ],
          [
           16677,
           "16.7 K",
           "IND"
          ],
          [
           14505,
           "14.5 K",
           "SGP"
          ],
          [
           12602,
           "12.6 K",
           "SLO"
          ],
          [
           10936,
           "10.9 K",
           "BUL"
          ],
          [
           10721,
           "10.7 K",
           "UKR"
          ],
          [
           10483,
           "10.5 K",
           "ROU"
          ],
          [
           9507,
           "9.5 K",
           "TUR"
          ],
          [
           7516,
           "7.5 K",
           "LAT"
          ],
          [
           7405,
           "7.4 K",
           "CRO"
          ],
          [
           6797,
           "6.8 K",
           "CHI"
          ],
          [
           6572,
           "6.6 K",
           "ISL"
          ],
          [
           6164,
           "6.2 K",
           "SRB"
          ],
          [
           5610,
           "5.6 K",
           "ZIM"
          ],
          [
           5436,
           "5.4 K",
           "ISR"
          ],
          [
           4633,
           "4.6 K",
           "LUX"
          ],
          [
           4287,
           "4.3 K",
           "INA"
          ],
          [
           3919,
           "3.9 K",
           "COL"
          ],
          [
           3841,
           "3.8 K",
           "VIE"
          ],
          [
           3322,
           "3.3 K",
           "LTU"
          ],
          [
           3123,
           "3.1 K",
           "EST"
          ],
          [
           2825,
           "2.8 K",
           "CRC"
          ],
          [
           2689,
           "2.7 K",
           "BLR"
          ],
          [
           2630,
           "2.6 K",
           "PER"
          ],
          [
           2544,
           "2.5 K",
           "ECU"
          ],
          [
           2514,
           "2.5 K",
           "URU"
          ],
          [
           2474,
           "2.5 K",
           "NAM"
          ],
          [
           2379,
           "2.4 K",
           "GUA"
          ],
          [
           2302,
           "2.3 K",
           "MAD"
          ],
          [
           2230,
           "2.2 K",
           "VEN"
          ],
          [
           1783,
           "1.8 K",
           "XXX"
          ],
          [
           1717,
           "1.7 K",
           "BRU"
          ],
          [
           1658,
           "1.7 K",
           "MAR"
          ],
          [
           1658,
           "1.7 K",
           "NEP"
          ],
          [
           1577,
           "1.6 K",
           "MRI"
          ],
          [
           1521,
           "1.5 K",
           "LES"
          ],
          [
           1465,
           "1.5 K",
           "AND"
          ],
          [
           1265,
           "1.3 K",
           "BIH"
          ],
          [
           1226,
           "1.2 K",
           "SWZ"
          ],
          [
           1016,
           "1.0 K",
           "TUN"
          ],
          [
           1004,
           "1.0 K",
           "MGL"
          ],
          [
           934,
           "934",
           "BOT"
          ],
          [
           895,
           "895",
           "MDA"
          ],
          [
           889,
           "889",
           "ALG"
          ],
          [
           876,
           "876",
           "KAZ"
          ],
          [
           864,
           "864",
           "MAC"
          ],
          [
           789,
           "789",
           "PAR"
          ],
          [
           780,
           "780",
           "MKD"
          ],
          [
           706,
           "706",
           "KEN"
          ],
          [
           627,
           "627",
           "MLT"
          ],
          [
           559,
           "559",
           "JOR"
          ],
          [
           546,
           "546",
           "IRI"
          ],
          [
           543,
           "543",
           "CYP"
          ],
          [
           503,
           "503",
           "ESA"
          ],
          [
           473,
           "473",
           "BOL"
          ],
          [
           420,
           "420",
           "SMR"
          ],
          [
           420,
           "420",
           "MAW"
          ],
          [
           418,
           "418",
           "DOM"
          ],
          [
           389,
           "389",
           "ZAM"
          ],
          [
           332,
           "332",
           "KOS"
          ],
          [
           311,
           "311",
           "OMA"
          ],
          [
           291,
           "291",
           "ALB"
          ],
          [
           284,
           "284",
           "MNE"
          ],
          [
           242,
           "242",
           "LIE"
          ],
          [
           236,
           "236",
           "UAE"
          ],
          [
           209,
           "209",
           "PUR"
          ],
          [
           200,
           "200",
           "PAN"
          ],
          [
           187,
           "187",
           "NCA"
          ],
          [
           180,
           "180",
           "CPV"
          ],
          [
           180,
           "180",
           "QAT"
          ],
          [
           179,
           "179",
           "LBN"
          ],
          [
           177,
           "177",
           "NGR"
          ],
          [
           174,
           "174",
           "PAK"
          ],
          [
           171,
           "171",
           "MOZ"
          ],
          [
           166,
           "166",
           "EGY"
          ],
          [
           157,
           "157",
           "CAM"
          ],
          [
           144,
           "144",
           "IVB"
          ],
          [
           142,
           "142",
           "ETH"
          ],
          [
           133,
           "133",
           "MON"
          ],
          [
           129,
           "129",
           "TAN"
          ],
          [
           128,
           "128",
           "GUY"
          ],
          [
           119,
           "119",
           "KSA"
          ],
          [
           113,
           "113",
           "ANG"
          ],
          [
           110,
           "110",
           "UGA"
          ],
          [
           92,
           "92",
           "CAY"
          ],
          [
           90,
           "90",
           "CUB"
          ],
          [
           84,
           "84",
           "HON"
          ],
          [
           81,
           "81",
           "GAB"
          ],
          [
           77,
           "77",
           "CMR"
          ],
          [
           72,
           "72",
           "SEN"
          ],
          [
           68,
           "68",
           "GEO"
          ],
          [
           66,
           "66",
           "COD"
          ],
          [
           61,
           "61",
           "GRL"
          ],
          [
           55,
           "55",
           "COM"
          ],
          [
           54,
           "54",
           "KGZ"
          ],
          [
           53,
           "53",
           "AFG"
          ],
          [
           50,
           "50",
           "SYR"
          ],
          [
           49,
           "49",
           "SRI"
          ],
          [
           47,
           "47",
           "KUW"
          ],
          [
           46,
           "46",
           "SOM"
          ],
          [
           43,
           "43",
           "BER"
          ],
          [
           42,
           "42",
           "AZE"
          ],
          [
           39,
           "39",
           "FRO"
          ],
          [
           39,
           "39",
           "MYA"
          ],
          [
           34,
           "34",
           "GHA"
          ],
          [
           32,
           "32",
           "BRN"
          ],
          [
           30,
           "30",
           "BUR"
          ],
          [
           29,
           "29",
           "CGO"
          ],
          [
           29,
           "29",
           "NIG"
          ],
          [
           29,
           "29",
           "ARM"
          ],
          [
           28,
           "28",
           "BEN"
          ],
          [
           27,
           "27",
           "TRI"
          ],
          [
           27,
           "27",
           "MLI"
          ],
          [
           25,
           "25",
           "IRQ"
          ],
          [
           22,
           "22",
           "BAN"
          ],
          [
           21,
           "21",
           "GAM"
          ],
          [
           21,
           "21",
           "UZB"
          ],
          [
           20,
           "20",
           "MDV"
          ],
          [
           20,
           "20",
           "SUD"
          ],
          [
           20,
           "20",
           "RWA"
          ],
          [
           16,
           "16",
           "ISV"
          ],
          [
           16,
           "16",
           "PLE"
          ],
          [
           16,
           "16",
           "LBA"
          ],
          [
           15,
           "15",
           "BHU"
          ],
          [
           14,
           "14",
           "JAM"
          ],
          [
           13,
           "13",
           "LAO"
          ],
          [
           12,
           "12",
           "CHA"
          ],
          [
           12,
           "12",
           "CIV"
          ],
          [
           11,
           "11",
           "ERI"
          ],
          [
           11,
           "11",
           "STP"
          ],
          [
           11,
           "11",
           "CAF"
          ],
          [
           10,
           "10",
           "PNG"
          ],
          [
           9,
           "9",
           "GUI"
          ],
          [
           9,
           "9",
           "GIB"
          ],
          [
           8,
           "8",
           "BAH"
          ],
          [
           8,
           "8",
           "SEY"
          ],
          [
           8,
           "8",
           "MTN"
          ],
          [
           8,
           "8",
           "GUM"
          ],
          [
           7,
           "7",
           "TJK"
          ],
          [
           7,
           "7",
           "HAI"
          ],
          [
           7,
           "7",
           "TOG"
          ],
          [
           7,
           "7",
           "COK"
          ],
          [
           6,
           "6",
           "SAM"
          ],
          [
           6,
           "6",
           "FIJ"
          ],
          [
           5,
           "5",
           "YUG"
          ],
          [
           5,
           "5",
           "PYF"
          ],
          [
           5,
           "5",
           "DAN"
          ],
          [
           4,
           "4",
           "swe"
          ],
          [
           4,
           "4",
           "TKM"
          ],
          [
           4,
           "4",
           "YEM"
          ],
          [
           3,
           "3",
           "LCA"
          ],
          [
           3,
           "3",
           "SKN"
          ],
          [
           2,
           "2",
           "Ned"
          ],
          [
           2,
           "2",
           "ARU"
          ],
          [
           2,
           "2",
           "TKS"
          ],
          [
           2,
           "2",
           "BIZ"
          ],
          [
           2,
           "2",
           "GRN"
          ],
          [
           2,
           "2",
           "IRE"
          ],
          [
           2,
           "2",
           "NFI"
          ],
          [
           1,
           "1",
           "BDI"
          ],
          [
           1,
           "1",
           "ANT"
          ],
          [
           1,
           "1",
           "MDG"
          ],
          [
           1,
           "1",
           "SVE"
          ],
          [
           1,
           "1",
           "GRB"
          ],
          [
           1,
           "1",
           "TWN"
          ],
          [
           1,
           "1",
           "GBS"
          ],
          [
           1,
           "1",
           "LBR"
          ],
          [
           1,
           "1",
           "AHO"
          ],
          [
           1,
           "1",
           "SLE"
          ],
          [
           1,
           "1",
           "BAR"
          ],
          [
           1,
           "1",
           "TGA"
          ],
          [
           1,
           "1",
           "ACT"
          ]
         ],
         "geo": "geo",
         "hovertemplate": "%{customdata[2]}: %{customdata[1]}<extra></extra>",
         "hovertext": [
          "USA",
          "FRA",
          "RSA",
          "JPN",
          "GER",
          "GBR",
          "ITA",
          "ESP",
          "CHN",
          "AUS",
          "TPE",
          "SUI",
          "POL",
          "CAN",
          "BEL",
          "KOR",
          "SWE",
          "HKG",
          "NED",
          "PHI",
          "HUN",
          "AUT",
          "RUS",
          "THA",
          "MAS",
          "POR",
          "CZE",
          "ARG",
          "NZL",
          "NOR",
          "BRA",
          "DEN",
          "FIN",
          "GRE",
          "MEX",
          "IRL",
          "SVK",
          "IND",
          "SGP",
          "SLO",
          "BUL",
          "UKR",
          "ROU",
          "TUR",
          "LAT",
          "CRO",
          "CHI",
          "ISL",
          "SRB",
          "ZIM",
          "ISR",
          "LUX",
          "INA",
          "COL",
          "VIE",
          "LTU",
          "EST",
          "CRC",
          "BLR",
          "PER",
          "ECU",
          "URU",
          "NAM",
          "GUA",
          "MAD",
          "VEN",
          "XXX",
          "BRU",
          "MAR",
          "NEP",
          "MRI",
          "LES",
          "AND",
          "BIH",
          "SWZ",
          "TUN",
          "MGL",
          "BOT",
          "MDA",
          "ALG",
          "KAZ",
          "MAC",
          "PAR",
          "MKD",
          "KEN",
          "MLT",
          "JOR",
          "IRI",
          "CYP",
          "ESA",
          "BOL",
          "SMR",
          "MAW",
          "DOM",
          "ZAM",
          "KOS",
          "OMA",
          "ALB",
          "MNE",
          "LIE",
          "UAE",
          "PUR",
          "PAN",
          "NCA",
          "CPV",
          "QAT",
          "LBN",
          "NGR",
          "PAK",
          "MOZ",
          "EGY",
          "CAM",
          "IVB",
          "ETH",
          "MON",
          "TAN",
          "GUY",
          "KSA",
          "ANG",
          "UGA",
          "CAY",
          "CUB",
          "HON",
          "GAB",
          "CMR",
          "SEN",
          "GEO",
          "COD",
          "GRL",
          "COM",
          "KGZ",
          "AFG",
          "SYR",
          "SRI",
          "KUW",
          "SOM",
          "BER",
          "AZE",
          "FRO",
          "MYA",
          "GHA",
          "BRN",
          "BUR",
          "CGO",
          "NIG",
          "ARM",
          "BEN",
          "TRI",
          "MLI",
          "IRQ",
          "BAN",
          "GAM",
          "UZB",
          "MDV",
          "SUD",
          "RWA",
          "ISV",
          "PLE",
          "LBA",
          "BHU",
          "JAM",
          "LAO",
          "CHA",
          "CIV",
          "ERI",
          "STP",
          "CAF",
          "PNG",
          "GUI",
          "GIB",
          "BAH",
          "SEY",
          "MTN",
          "GUM",
          "TJK",
          "HAI",
          "TOG",
          "COK",
          "SAM",
          "FIJ",
          "YUG",
          "PYF",
          "DAN",
          "swe",
          "TKM",
          "YEM",
          "LCA",
          "SKN",
          "Ned",
          "ARU",
          "TKS",
          "BIZ",
          "GRN",
          "IRE",
          "NFI",
          "BDI",
          "ANT",
          "MDG",
          "SVE",
          "GRB",
          "TWN",
          "GBS",
          "LBR",
          "AHO",
          "SLE",
          "BAR",
          "TGA",
          "ACT"
         ],
         "locations": [
          "USA",
          "FRA",
          "RSA",
          "JPN",
          "GER",
          "GBR",
          "ITA",
          "ESP",
          "CHN",
          "AUS",
          "TPE",
          "SUI",
          "POL",
          "CAN",
          "BEL",
          "KOR",
          "SWE",
          "HKG",
          "NED",
          "PHI",
          "HUN",
          "AUT",
          "RUS",
          "THA",
          "MAS",
          "POR",
          "CZE",
          "ARG",
          "NZL",
          "NOR",
          "BRA",
          "DEN",
          "FIN",
          "GRE",
          "MEX",
          "IRL",
          "SVK",
          "IND",
          "SGP",
          "SLO",
          "BUL",
          "UKR",
          "ROU",
          "TUR",
          "LAT",
          "CRO",
          "CHI",
          "ISL",
          "SRB",
          "ZIM",
          "ISR",
          "LUX",
          "INA",
          "COL",
          "VIE",
          "LTU",
          "EST",
          "CRC",
          "BLR",
          "PER",
          "ECU",
          "URU",
          "NAM",
          "GUA",
          "MAD",
          "VEN",
          "XXX",
          "BRU",
          "MAR",
          "NEP",
          "MRI",
          "LES",
          "AND",
          "BIH",
          "SWZ",
          "TUN",
          "MGL",
          "BOT",
          "MDA",
          "ALG",
          "KAZ",
          "MAC",
          "PAR",
          "MKD",
          "KEN",
          "MLT",
          "JOR",
          "IRI",
          "CYP",
          "ESA",
          "BOL",
          "SMR",
          "MAW",
          "DOM",
          "ZAM",
          "KOS",
          "OMA",
          "ALB",
          "MNE",
          "LIE",
          "UAE",
          "PUR",
          "PAN",
          "NCA",
          "CPV",
          "QAT",
          "LBN",
          "NGR",
          "PAK",
          "MOZ",
          "EGY",
          "CAM",
          "IVB",
          "ETH",
          "MON",
          "TAN",
          "GUY",
          "KSA",
          "ANG",
          "UGA",
          "CAY",
          "CUB",
          "HON",
          "GAB",
          "CMR",
          "SEN",
          "GEO",
          "COD",
          "GRL",
          "COM",
          "KGZ",
          "AFG",
          "SYR",
          "SRI",
          "KUW",
          "SOM",
          "BER",
          "AZE",
          "FRO",
          "MYA",
          "GHA",
          "BRN",
          "BUR",
          "CGO",
          "NIG",
          "ARM",
          "BEN",
          "TRI",
          "MLI",
          "IRQ",
          "BAN",
          "GAM",
          "UZB",
          "MDV",
          "SUD",
          "RWA",
          "ISV",
          "PLE",
          "LBA",
          "BHU",
          "JAM",
          "LAO",
          "CHA",
          "CIV",
          "ERI",
          "STP",
          "CAF",
          "PNG",
          "GUI",
          "GIB",
          "BAH",
          "SEY",
          "MTN",
          "GUM",
          "TJK",
          "HAI",
          "TOG",
          "COK",
          "SAM",
          "FIJ",
          "YUG",
          "PYF",
          "DAN",
          "swe",
          "TKM",
          "YEM",
          "LCA",
          "SKN",
          "Ned",
          "ARU",
          "TKS",
          "BIZ",
          "GRN",
          "IRE",
          "NFI",
          "BDI",
          "ANT",
          "MDG",
          "SVE",
          "GRB",
          "TWN",
          "GBS",
          "LBR",
          "AHO",
          "SLE",
          "BAR",
          "TGA",
          "ACT"
         ],
         "name": "",
         "type": "choropleth",
         "z": [
          1389960,
          1170884,
          877630,
          603132,
          442056,
          347153,
          344076,
          232311,
          219944,
          150761,
          143805,
          126687,
          119860,
          114081,
          77868,
          75184,
          71258,
          59642,
          57558,
          49534,
          47502,
          46234,
          45983,
          43708,
          42802,
          37595,
          36694,
          35124,
          35009,
          32493,
          31027,
          27010,
          26420,
          25446,
          25313,
          21357,
          17304,
          16677,
          14505,
          12602,
          10936,
          10721,
          10483,
          9507,
          7516,
          7405,
          6797,
          6572,
          6164,
          5610,
          5436,
          4633,
          4287,
          3919,
          3841,
          3322,
          3123,
          2825,
          2689,
          2630,
          2544,
          2514,
          2474,
          2379,
          2302,
          2230,
          1783,
          1717,
          1658,
          1658,
          1577,
          1521,
          1465,
          1265,
          1226,
          1016,
          1004,
          934,
          895,
          889,
          876,
          864,
          789,
          780,
          706,
          627,
          559,
          546,
          543,
          503,
          473,
          420,
          420,
          418,
          389,
          332,
          311,
          291,
          284,
          242,
          236,
          209,
          200,
          187,
          180,
          180,
          179,
          177,
          174,
          171,
          166,
          157,
          144,
          142,
          133,
          129,
          128,
          119,
          113,
          110,
          92,
          90,
          84,
          81,
          77,
          72,
          68,
          66,
          61,
          55,
          54,
          53,
          50,
          49,
          47,
          46,
          43,
          42,
          39,
          39,
          34,
          32,
          30,
          29,
          29,
          29,
          28,
          27,
          27,
          25,
          22,
          21,
          21,
          20,
          20,
          20,
          16,
          16,
          16,
          15,
          14,
          13,
          12,
          12,
          11,
          11,
          11,
          10,
          9,
          9,
          8,
          8,
          8,
          8,
          7,
          7,
          7,
          7,
          6,
          6,
          5,
          5,
          5,
          4,
          4,
          4,
          3,
          3,
          2,
          2,
          2,
          2,
          2,
          2,
          2,
          1,
          1,
          1,
          1,
          1,
          1,
          1,
          1,
          1,
          1,
          1,
          1,
          1
         ]
        }
       ],
       "layout": {
        "coloraxis": {
         "colorbar": {
          "title": {
           "text": "count"
          }
         },
         "colorscale": [
          [
           0,
           "#0d0887"
          ],
          [
           0.1111111111111111,
           "#46039f"
          ],
          [
           0.2222222222222222,
           "#7201a8"
          ],
          [
           0.3333333333333333,
           "#9c179e"
          ],
          [
           0.4444444444444444,
           "#bd3786"
          ],
          [
           0.5555555555555556,
           "#d8576b"
          ],
          [
           0.6666666666666666,
           "#ed7953"
          ],
          [
           0.7777777777777778,
           "#fb9f3a"
          ],
          [
           0.8888888888888888,
           "#fdca26"
          ],
          [
           1,
           "#f0f921"
          ]
         ]
        },
        "geo": {
         "center": {},
         "domain": {
          "x": [
           0,
           1
          ],
          "y": [
           0,
           1
          ]
         }
        },
        "legend": {
         "tracegroupgap": 0
        },
        "margin": {
         "t": 60
        },
        "template": {
         "data": {
          "bar": [
           {
            "error_x": {
             "color": "#2a3f5f"
            },
            "error_y": {
             "color": "#2a3f5f"
            },
            "marker": {
             "line": {
              "color": "#E5ECF6",
              "width": 0.5
             },
             "pattern": {
              "fillmode": "overlay",
              "size": 10,
              "solidity": 0.2
             }
            },
            "type": "bar"
           }
          ],
          "barpolar": [
           {
            "marker": {
             "line": {
              "color": "#E5ECF6",
              "width": 0.5
             },
             "pattern": {
              "fillmode": "overlay",
              "size": 10,
              "solidity": 0.2
             }
            },
            "type": "barpolar"
           }
          ],
          "carpet": [
           {
            "aaxis": {
             "endlinecolor": "#2a3f5f",
             "gridcolor": "white",
             "linecolor": "white",
             "minorgridcolor": "white",
             "startlinecolor": "#2a3f5f"
            },
            "baxis": {
             "endlinecolor": "#2a3f5f",
             "gridcolor": "white",
             "linecolor": "white",
             "minorgridcolor": "white",
             "startlinecolor": "#2a3f5f"
            },
            "type": "carpet"
           }
          ],
          "choropleth": [
           {
            "colorbar": {
             "outlinewidth": 0,
             "ticks": ""
            },
            "type": "choropleth"
           }
          ],
          "contour": [
           {
            "colorbar": {
             "outlinewidth": 0,
             "ticks": ""
            },
            "colorscale": [
             [
              0,
              "#0d0887"
             ],
             [
              0.1111111111111111,
              "#46039f"
             ],
             [
              0.2222222222222222,
              "#7201a8"
             ],
             [
              0.3333333333333333,
              "#9c179e"
             ],
             [
              0.4444444444444444,
              "#bd3786"
             ],
             [
              0.5555555555555556,
              "#d8576b"
             ],
             [
              0.6666666666666666,
              "#ed7953"
             ],
             [
              0.7777777777777778,
              "#fb9f3a"
             ],
             [
              0.8888888888888888,
              "#fdca26"
             ],
             [
              1,
              "#f0f921"
             ]
            ],
            "type": "contour"
           }
          ],
          "contourcarpet": [
           {
            "colorbar": {
             "outlinewidth": 0,
             "ticks": ""
            },
            "type": "contourcarpet"
           }
          ],
          "heatmap": [
           {
            "colorbar": {
             "outlinewidth": 0,
             "ticks": ""
            },
            "colorscale": [
             [
              0,
              "#0d0887"
             ],
             [
              0.1111111111111111,
              "#46039f"
             ],
             [
              0.2222222222222222,
              "#7201a8"
             ],
             [
              0.3333333333333333,
              "#9c179e"
             ],
             [
              0.4444444444444444,
              "#bd3786"
             ],
             [
              0.5555555555555556,
              "#d8576b"
             ],
             [
              0.6666666666666666,
              "#ed7953"
             ],
             [
              0.7777777777777778,
              "#fb9f3a"
             ],
             [
              0.8888888888888888,
              "#fdca26"
             ],
             [
              1,
              "#f0f921"
             ]
            ],
            "type": "heatmap"
           }
          ],
          "heatmapgl": [
           {
            "colorbar": {
             "outlinewidth": 0,
             "ticks": ""
            },
            "colorscale": [
             [
              0,
              "#0d0887"
             ],
             [
              0.1111111111111111,
              "#46039f"
             ],
             [
              0.2222222222222222,
              "#7201a8"
             ],
             [
              0.3333333333333333,
              "#9c179e"
             ],
             [
              0.4444444444444444,
              "#bd3786"
             ],
             [
              0.5555555555555556,
              "#d8576b"
             ],
             [
              0.6666666666666666,
              "#ed7953"
             ],
             [
              0.7777777777777778,
              "#fb9f3a"
             ],
             [
              0.8888888888888888,
              "#fdca26"
             ],
             [
              1,
              "#f0f921"
             ]
            ],
            "type": "heatmapgl"
           }
          ],
          "histogram": [
           {
            "marker": {
             "pattern": {
              "fillmode": "overlay",
              "size": 10,
              "solidity": 0.2
             }
            },
            "type": "histogram"
           }
          ],
          "histogram2d": [
           {
            "colorbar": {
             "outlinewidth": 0,
             "ticks": ""
            },
            "colorscale": [
             [
              0,
              "#0d0887"
             ],
             [
              0.1111111111111111,
              "#46039f"
             ],
             [
              0.2222222222222222,
              "#7201a8"
             ],
             [
              0.3333333333333333,
              "#9c179e"
             ],
             [
              0.4444444444444444,
              "#bd3786"
             ],
             [
              0.5555555555555556,
              "#d8576b"
             ],
             [
              0.6666666666666666,
              "#ed7953"
             ],
             [
              0.7777777777777778,
              "#fb9f3a"
             ],
             [
              0.8888888888888888,
              "#fdca26"
             ],
             [
              1,
              "#f0f921"
             ]
            ],
            "type": "histogram2d"
           }
          ],
          "histogram2dcontour": [
           {
            "colorbar": {
             "outlinewidth": 0,
             "ticks": ""
            },
            "colorscale": [
             [
              0,
              "#0d0887"
             ],
             [
              0.1111111111111111,
              "#46039f"
             ],
             [
              0.2222222222222222,
              "#7201a8"
             ],
             [
              0.3333333333333333,
              "#9c179e"
             ],
             [
              0.4444444444444444,
              "#bd3786"
             ],
             [
              0.5555555555555556,
              "#d8576b"
             ],
             [
              0.6666666666666666,
              "#ed7953"
             ],
             [
              0.7777777777777778,
              "#fb9f3a"
             ],
             [
              0.8888888888888888,
              "#fdca26"
             ],
             [
              1,
              "#f0f921"
             ]
            ],
            "type": "histogram2dcontour"
           }
          ],
          "mesh3d": [
           {
            "colorbar": {
             "outlinewidth": 0,
             "ticks": ""
            },
            "type": "mesh3d"
           }
          ],
          "parcoords": [
           {
            "line": {
             "colorbar": {
              "outlinewidth": 0,
              "ticks": ""
             }
            },
            "type": "parcoords"
           }
          ],
          "pie": [
           {
            "automargin": true,
            "type": "pie"
           }
          ],
          "scatter": [
           {
            "fillpattern": {
             "fillmode": "overlay",
             "size": 10,
             "solidity": 0.2
            },
            "type": "scatter"
           }
          ],
          "scatter3d": [
           {
            "line": {
             "colorbar": {
              "outlinewidth": 0,
              "ticks": ""
             }
            },
            "marker": {
             "colorbar": {
              "outlinewidth": 0,
              "ticks": ""
             }
            },
            "type": "scatter3d"
           }
          ],
          "scattercarpet": [
           {
            "marker": {
             "colorbar": {
              "outlinewidth": 0,
              "ticks": ""
             }
            },
            "type": "scattercarpet"
           }
          ],
          "scattergeo": [
           {
            "marker": {
             "colorbar": {
              "outlinewidth": 0,
              "ticks": ""
             }
            },
            "type": "scattergeo"
           }
          ],
          "scattergl": [
           {
            "marker": {
             "colorbar": {
              "outlinewidth": 0,
              "ticks": ""
             }
            },
            "type": "scattergl"
           }
          ],
          "scattermapbox": [
           {
            "marker": {
             "colorbar": {
              "outlinewidth": 0,
              "ticks": ""
             }
            },
            "type": "scattermapbox"
           }
          ],
          "scatterpolar": [
           {
            "marker": {
             "colorbar": {
              "outlinewidth": 0,
              "ticks": ""
             }
            },
            "type": "scatterpolar"
           }
          ],
          "scatterpolargl": [
           {
            "marker": {
             "colorbar": {
              "outlinewidth": 0,
              "ticks": ""
             }
            },
            "type": "scatterpolargl"
           }
          ],
          "scatterternary": [
           {
            "marker": {
             "colorbar": {
              "outlinewidth": 0,
              "ticks": ""
             }
            },
            "type": "scatterternary"
           }
          ],
          "surface": [
           {
            "colorbar": {
             "outlinewidth": 0,
             "ticks": ""
            },
            "colorscale": [
             [
              0,
              "#0d0887"
             ],
             [
              0.1111111111111111,
              "#46039f"
             ],
             [
              0.2222222222222222,
              "#7201a8"
             ],
             [
              0.3333333333333333,
              "#9c179e"
             ],
             [
              0.4444444444444444,
              "#bd3786"
             ],
             [
              0.5555555555555556,
              "#d8576b"
             ],
             [
              0.6666666666666666,
              "#ed7953"
             ],
             [
              0.7777777777777778,
              "#fb9f3a"
             ],
             [
              0.8888888888888888,
              "#fdca26"
             ],
             [
              1,
              "#f0f921"
             ]
            ],
            "type": "surface"
           }
          ],
          "table": [
           {
            "cells": {
             "fill": {
              "color": "#EBF0F8"
             },
             "line": {
              "color": "white"
             }
            },
            "header": {
             "fill": {
              "color": "#C8D4E3"
             },
             "line": {
              "color": "white"
             }
            },
            "type": "table"
           }
          ]
         },
         "layout": {
          "annotationdefaults": {
           "arrowcolor": "#2a3f5f",
           "arrowhead": 0,
           "arrowwidth": 1
          },
          "autotypenumbers": "strict",
          "coloraxis": {
           "colorbar": {
            "outlinewidth": 0,
            "ticks": ""
           }
          },
          "colorscale": {
           "diverging": [
            [
             0,
             "#8e0152"
            ],
            [
             0.1,
             "#c51b7d"
            ],
            [
             0.2,
             "#de77ae"
            ],
            [
             0.3,
             "#f1b6da"
            ],
            [
             0.4,
             "#fde0ef"
            ],
            [
             0.5,
             "#f7f7f7"
            ],
            [
             0.6,
             "#e6f5d0"
            ],
            [
             0.7,
             "#b8e186"
            ],
            [
             0.8,
             "#7fbc41"
            ],
            [
             0.9,
             "#4d9221"
            ],
            [
             1,
             "#276419"
            ]
           ],
           "sequential": [
            [
             0,
             "#0d0887"
            ],
            [
             0.1111111111111111,
             "#46039f"
            ],
            [
             0.2222222222222222,
             "#7201a8"
            ],
            [
             0.3333333333333333,
             "#9c179e"
            ],
            [
             0.4444444444444444,
             "#bd3786"
            ],
            [
             0.5555555555555556,
             "#d8576b"
            ],
            [
             0.6666666666666666,
             "#ed7953"
            ],
            [
             0.7777777777777778,
             "#fb9f3a"
            ],
            [
             0.8888888888888888,
             "#fdca26"
            ],
            [
             1,
             "#f0f921"
            ]
           ],
           "sequentialminus": [
            [
             0,
             "#0d0887"
            ],
            [
             0.1111111111111111,
             "#46039f"
            ],
            [
             0.2222222222222222,
             "#7201a8"
            ],
            [
             0.3333333333333333,
             "#9c179e"
            ],
            [
             0.4444444444444444,
             "#bd3786"
            ],
            [
             0.5555555555555556,
             "#d8576b"
            ],
            [
             0.6666666666666666,
             "#ed7953"
            ],
            [
             0.7777777777777778,
             "#fb9f3a"
            ],
            [
             0.8888888888888888,
             "#fdca26"
            ],
            [
             1,
             "#f0f921"
            ]
           ]
          },
          "colorway": [
           "#636efa",
           "#EF553B",
           "#00cc96",
           "#ab63fa",
           "#FFA15A",
           "#19d3f3",
           "#FF6692",
           "#B6E880",
           "#FF97FF",
           "#FECB52"
          ],
          "font": {
           "color": "#2a3f5f"
          },
          "geo": {
           "bgcolor": "white",
           "lakecolor": "white",
           "landcolor": "#E5ECF6",
           "showlakes": true,
           "showland": true,
           "subunitcolor": "white"
          },
          "hoverlabel": {
           "align": "left"
          },
          "hovermode": "closest",
          "mapbox": {
           "style": "light"
          },
          "paper_bgcolor": "white",
          "plot_bgcolor": "#E5ECF6",
          "polar": {
           "angularaxis": {
            "gridcolor": "white",
            "linecolor": "white",
            "ticks": ""
           },
           "bgcolor": "#E5ECF6",
           "radialaxis": {
            "gridcolor": "white",
            "linecolor": "white",
            "ticks": ""
           }
          },
          "scene": {
           "xaxis": {
            "backgroundcolor": "#E5ECF6",
            "gridcolor": "white",
            "gridwidth": 2,
            "linecolor": "white",
            "showbackground": true,
            "ticks": "",
            "zerolinecolor": "white"
           },
           "yaxis": {
            "backgroundcolor": "#E5ECF6",
            "gridcolor": "white",
            "gridwidth": 2,
            "linecolor": "white",
            "showbackground": true,
            "ticks": "",
            "zerolinecolor": "white"
           },
           "zaxis": {
            "backgroundcolor": "#E5ECF6",
            "gridcolor": "white",
            "gridwidth": 2,
            "linecolor": "white",
            "showbackground": true,
            "ticks": "",
            "zerolinecolor": "white"
           }
          },
          "shapedefaults": {
           "line": {
            "color": "#2a3f5f"
           }
          },
          "ternary": {
           "aaxis": {
            "gridcolor": "white",
            "linecolor": "white",
            "ticks": ""
           },
           "baxis": {
            "gridcolor": "white",
            "linecolor": "white",
            "ticks": ""
           },
           "bgcolor": "#E5ECF6",
           "caxis": {
            "gridcolor": "white",
            "linecolor": "white",
            "ticks": ""
           }
          },
          "title": {
           "x": 0.05
          },
          "xaxis": {
           "automargin": true,
           "gridcolor": "white",
           "linecolor": "white",
           "ticks": "",
           "title": {
            "standoff": 15
           },
           "zerolinecolor": "white",
           "zerolinewidth": 2
          },
          "yaxis": {
           "automargin": true,
           "gridcolor": "white",
           "linecolor": "white",
           "ticks": "",
           "title": {
            "standoff": 15
           },
           "zerolinecolor": "white",
           "zerolinewidth": 2
          }
         }
        }
       }
      }
     },
     "metadata": {},
     "output_type": "display_data"
    }
   ],
   "source": [
    "country_counts = df['athlete_country'].value_counts().reset_index()\n",
    "\n",
    "def format_hover_text(val):\n",
    "    if val >= 1e6:\n",
    "        return f'{val / 1e6:.1f} M'\n",
    "    elif val >= 1e3:\n",
    "        return f'{val / 1e3:.1f} K'\n",
    "    else:\n",
    "        return f'{val}'\n",
    "    \n",
    "country_counts['formatted_vals'] = country_counts['count'].apply(format_hover_text)\n",
    "\n",
    "fig = px.choropleth(\n",
    "    country_counts,\n",
    "    locations='athlete_country',\n",
    "    color='count',\n",
    "    hover_name='athlete_country',\n",
    "    hover_data = {\n",
    "        'count': False, \n",
    "        'formatted_vals': True, \n",
    "        'athlete_country': False\n",
    "    },\n",
    "    color_continuous_scale=px.colors.sequential.Plasma\n",
    ")\n",
    "for trace in fig.data:  \n",
    "    trace.hovertemplate = '%{customdata[2]}: %{customdata[1]}<extra></extra>'\n",
    "fig.write_image(f'{fig_path}athletes_per_county.jpg')\n",
    "fig.show()"
   ]
  },
  {
   "cell_type": "code",
   "execution_count": 105,
   "metadata": {},
   "outputs": [],
   "source": [
    "athlete_races = df[['athlete_id', 'gender', 'year_of_event', 'birth_year']].copy()\n",
    "athlete_races['gender'] = athlete_races['gender'].astype('category')\n",
    "athlete_races['race_age'] = athlete_races['year_of_event'] - athlete_races['birth_year']\n",
    "race_counts = athlete_races['athlete_id'].value_counts()\n",
    "athlete_races['race_count'] = athlete_races['athlete_id'].map(race_counts)\n",
    "athlete_races.drop(columns = ['year_of_event', 'birth_year'], inplace = True)\n",
    "proper_ages = athlete_races[(athlete_races['race_age'] < 95) & (athlete_races['race_age'] > 14)].copy().reset_index()"
   ]
  },
  {
   "cell_type": "code",
   "execution_count": 112,
   "metadata": {},
   "outputs": [
    {
     "data": {
      "image/png": "[encoded data removed]",
      "text/plain": [
       "<Figure size 1000x500 with 2 Axes>"
      ]
     },
     "metadata": {},
     "output_type": "display_data"
    }
   ],
   "source": [
    "custom_ticks = [0, 200, 400, 600, 800]\n",
    "\n",
    "fig, ax = plt.subplots(1, 2, figsize=(10, 5))\n",
    "\n",
    "bin_m = proper_ages[proper_ages['gender'] == 'M'].sample(frac = 0.1)\n",
    "bin_f = proper_ages[proper_ages['gender'] == 'F'].sample(frac = 0.1)\n",
    "\n",
    "sns.scatterplot(data = bin_m, x = 'race_count', y = 'race_age', ax = ax[0])\n",
    "ax[0].set_title(f'Athlete ages and amount of races completed for men')\n",
    "ax[0].set_xlabel('# of races finished')\n",
    "ax[0].set_ylabel('Age')\n",
    "ax[0].set_xticks(ticks = custom_ticks, labels = custom_ticks)\n",
    "ax[0].legend([f'{len(bin_m)} male athletes'])\n",
    "\n",
    "sns.scatterplot(data = bin_f[bin_f['race_count'] < 1000], x = 'race_count', y = 'race_age', color = 'pink', ax = ax[1])\n",
    "ax[1].set_title(f'Athlete ages and amount of races completed for women')\n",
    "ax[1].set_xlabel('# of races finished')\n",
    "ax[1].set_ylabel('Age')\n",
    "ax[1].set_xticks(ticks = custom_ticks, labels = custom_ticks)\n",
    "ax[1].legend([f'{len(bin_f)} female athletes'])\n",
    "plt.tight_layout()\n",
    "fig.savefig(f'{fig_path}athlete_ages_and_number_of_races_completed.jpg')"
   ]
  },
  {
   "cell_type": "code",
   "execution_count": 108,
   "metadata": {},
   "outputs": [
    {
     "data": {
      "text/html": [
       "<div>\n",
       "<style scoped>\n",
       "    .dataframe tbody tr th:only-of-type {\n",
       "        vertical-align: middle;\n",
       "    }\n",
       "\n",
       "    .dataframe tbody tr th {\n",
       "        vertical-align: top;\n",
       "    }\n",
       "\n",
       "    .dataframe thead th {\n",
       "        text-align: right;\n",
       "    }\n",
       "</style>\n",
       "<table border=\"1\" class=\"dataframe\">\n",
       "  <thead>\n",
       "    <tr style=\"text-align: right;\">\n",
       "      <th></th>\n",
       "      <th>year_of_event</th>\n",
       "      <th>event_name</th>\n",
       "      <th>distance_or_length</th>\n",
       "      <th>no_of_finishers</th>\n",
       "      <th>total_distance</th>\n",
       "      <th>athlete_club</th>\n",
       "      <th>athlete_country</th>\n",
       "      <th>birth_year</th>\n",
       "      <th>gender</th>\n",
       "      <th>age_category</th>\n",
       "      <th>average_speed</th>\n",
       "      <th>athlete_id</th>\n",
       "      <th>race_metric</th>\n",
       "      <th>start_date</th>\n",
       "      <th>end_date</th>\n",
       "      <th>fastest_time</th>\n",
       "    </tr>\n",
       "  </thead>\n",
       "  <tbody>\n",
       "    <tr>\n",
       "      <th>3828751</th>\n",
       "      <td>2000</td>\n",
       "      <td>Sri Chinmoy Ultra Trio 700 Mile Race (USA)</td>\n",
       "      <td>700.00</td>\n",
       "      <td>12</td>\n",
       "      <td>0.00</td>\n",
       "      <td>Jamaica, NY</td>\n",
       "      <td>USA</td>\n",
       "      <td>1952</td>\n",
       "      <td>M</td>\n",
       "      <td>M45</td>\n",
       "      <td>4.70</td>\n",
       "      <td>219882</td>\n",
       "      <td>mi</td>\n",
       "      <td>2010-09-10</td>\n",
       "      <td>2010-09-23</td>\n",
       "      <td>9d 23:51:20</td>\n",
       "    </tr>\n",
       "    <tr>\n",
       "      <th>2937253</th>\n",
       "      <td>2021</td>\n",
       "      <td>The Last Annual Heart of the South Road Race (...</td>\n",
       "      <td>326.00</td>\n",
       "      <td>46</td>\n",
       "      <td>0.00</td>\n",
       "      <td>Blacksburg, VA</td>\n",
       "      <td>USA</td>\n",
       "      <td>1977</td>\n",
       "      <td>M</td>\n",
       "      <td>M40</td>\n",
       "      <td>2.191</td>\n",
       "      <td>1202</td>\n",
       "      <td>mi</td>\n",
       "      <td>2021-06-17</td>\n",
       "      <td>2021-06-27</td>\n",
       "      <td>9d 23:25:57</td>\n",
       "    </tr>\n",
       "    <tr>\n",
       "      <th>3371218</th>\n",
       "      <td>2022</td>\n",
       "      <td>MilKil - 1000 km de France (FRA)</td>\n",
       "      <td>1002.00</td>\n",
       "      <td>14</td>\n",
       "      <td>0.00</td>\n",
       "      <td>Unknown</td>\n",
       "      <td>FRA</td>\n",
       "      <td>1968</td>\n",
       "      <td>M</td>\n",
       "      <td>M50</td>\n",
       "      <td>4.187</td>\n",
       "      <td>18503</td>\n",
       "      <td>km</td>\n",
       "      <td>2022-06-12</td>\n",
       "      <td>2022-06-25</td>\n",
       "      <td>9d 23:17:40</td>\n",
       "    </tr>\n",
       "    <tr>\n",
       "      <th>3654613</th>\n",
       "      <td>1996</td>\n",
       "      <td>Nanango 1000 Mile Track Race - 1000km Split (AUS)</td>\n",
       "      <td>1000.00</td>\n",
       "      <td>16</td>\n",
       "      <td>0.00</td>\n",
       "      <td>Unknown</td>\n",
       "      <td>CAN</td>\n",
       "      <td>1940</td>\n",
       "      <td>M</td>\n",
       "      <td>M55</td>\n",
       "      <td>4.18</td>\n",
       "      <td>1069846</td>\n",
       "      <td>km</td>\n",
       "      <td>1996-03-13</td>\n",
       "      <td>1996-03-29</td>\n",
       "      <td>9d 23:15:35</td>\n",
       "    </tr>\n",
       "    <tr>\n",
       "      <th>5815025</th>\n",
       "      <td>2013</td>\n",
       "      <td>Last Annual Vol-State 500K Endurance Run (USA)</td>\n",
       "      <td>500.00</td>\n",
       "      <td>33</td>\n",
       "      <td>0.00</td>\n",
       "      <td>FL</td>\n",
       "      <td>USA</td>\n",
       "      <td>1965</td>\n",
       "      <td>M</td>\n",
       "      <td>M45</td>\n",
       "      <td>2.091</td>\n",
       "      <td>1386338</td>\n",
       "      <td>km</td>\n",
       "      <td>2013-07-11</td>\n",
       "      <td>2013-07-20</td>\n",
       "      <td>9d 23:08:40</td>\n",
       "    </tr>\n",
       "  </tbody>\n",
       "</table>\n",
       "</div>"
      ],
      "text/plain": [
       "         year_of_event                                         event_name  \\\n",
       "3828751           2000         Sri Chinmoy Ultra Trio 700 Mile Race (USA)   \n",
       "2937253           2021  The Last Annual Heart of the South Road Race (...   \n",
       "3371218           2022                   MilKil - 1000 km de France (FRA)   \n",
       "3654613           1996  Nanango 1000 Mile Track Race - 1000km Split (AUS)   \n",
       "5815025           2013     Last Annual Vol-State 500K Endurance Run (USA)   \n",
       "\n",
       "         distance_or_length  no_of_finishers  total_distance    athlete_club  \\\n",
       "3828751              700.00               12            0.00     Jamaica, NY   \n",
       "2937253              326.00               46            0.00  Blacksburg, VA   \n",
       "3371218             1002.00               14            0.00         Unknown   \n",
       "3654613             1000.00               16            0.00         Unknown   \n",
       "5815025              500.00               33            0.00              FL   \n",
       "\n",
       "        athlete_country  birth_year gender age_category average_speed  \\\n",
       "3828751             USA        1952      M          M45          4.70   \n",
       "2937253             USA        1977      M          M40         2.191   \n",
       "3371218             FRA        1968      M          M50         4.187   \n",
       "3654613             CAN        1940      M          M55          4.18   \n",
       "5815025             USA        1965      M          M45         2.091   \n",
       "\n",
       "         athlete_id race_metric  start_date    end_date fastest_time  \n",
       "3828751      219882          mi  2010-09-10  2010-09-23  9d 23:51:20  \n",
       "2937253        1202          mi  2021-06-17  2021-06-27  9d 23:25:57  \n",
       "3371218       18503          km  2022-06-12  2022-06-25  9d 23:17:40  \n",
       "3654613     1069846          km  1996-03-13  1996-03-29  9d 23:15:35  \n",
       "5815025     1386338          km  2013-07-11  2013-07-20  9d 23:08:40  "
      ]
     },
     "execution_count": 108,
     "metadata": {},
     "output_type": "execute_result"
    }
   ],
   "source": [
    "winners_male = df[df['gender'] == 'M'].sort_values(by = 'fastest_time', ascending = False).drop_duplicates(subset = 'event_name')\n",
    "winners_female = df[df['gender'] == 'F'].sort_values(by = 'fastest_time', ascending = False).drop_duplicates(subset = 'event_name')\n",
    "winners_male.head()"
   ]
  },
  {
   "cell_type": "code",
   "execution_count": 109,
   "metadata": {},
   "outputs": [
    {
     "data": {
      "text/html": [
       "<div>\n",
       "<style scoped>\n",
       "    .dataframe tbody tr th:only-of-type {\n",
       "        vertical-align: middle;\n",
       "    }\n",
       "\n",
       "    .dataframe tbody tr th {\n",
       "        vertical-align: top;\n",
       "    }\n",
       "\n",
       "    .dataframe thead th {\n",
       "        text-align: right;\n",
       "    }\n",
       "</style>\n",
       "<table border=\"1\" class=\"dataframe\">\n",
       "  <thead>\n",
       "    <tr style=\"text-align: right;\">\n",
       "      <th></th>\n",
       "      <th>year_of_event</th>\n",
       "      <th>event_name</th>\n",
       "      <th>distance_or_length</th>\n",
       "      <th>no_of_finishers</th>\n",
       "      <th>total_distance</th>\n",
       "      <th>athlete_club</th>\n",
       "      <th>athlete_country</th>\n",
       "      <th>birth_year</th>\n",
       "      <th>gender</th>\n",
       "      <th>age_category</th>\n",
       "      <th>average_speed</th>\n",
       "      <th>athlete_id</th>\n",
       "      <th>race_metric</th>\n",
       "      <th>start_date</th>\n",
       "      <th>end_date</th>\n",
       "      <th>fastest_time</th>\n",
       "    </tr>\n",
       "  </thead>\n",
       "  <tbody>\n",
       "    <tr>\n",
       "      <th>2463669</th>\n",
       "      <td>2019</td>\n",
       "      <td>Across the Years, 10 days - 1000km Split (USA)</td>\n",
       "      <td>1000.00</td>\n",
       "      <td>5</td>\n",
       "      <td>0.00</td>\n",
       "      <td>Seattle, WA</td>\n",
       "      <td>USA</td>\n",
       "      <td>1971</td>\n",
       "      <td>F</td>\n",
       "      <td>W45</td>\n",
       "      <td>4.174</td>\n",
       "      <td>11736</td>\n",
       "      <td>km</td>\n",
       "      <td>2019-12-28</td>\n",
       "      <td>2020-01-07</td>\n",
       "      <td>9d 23:33:16</td>\n",
       "    </tr>\n",
       "    <tr>\n",
       "      <th>2937252</th>\n",
       "      <td>2021</td>\n",
       "      <td>The Last Annual Heart of the South Road Race (...</td>\n",
       "      <td>326.00</td>\n",
       "      <td>46</td>\n",
       "      <td>0.00</td>\n",
       "      <td>Newland, NC</td>\n",
       "      <td>USA</td>\n",
       "      <td>1982</td>\n",
       "      <td>F</td>\n",
       "      <td>W35</td>\n",
       "      <td>2.191</td>\n",
       "      <td>901860</td>\n",
       "      <td>mi</td>\n",
       "      <td>2021-06-17</td>\n",
       "      <td>2021-06-27</td>\n",
       "      <td>9d 23:25:26</td>\n",
       "    </tr>\n",
       "    <tr>\n",
       "      <th>2578723</th>\n",
       "      <td>2020</td>\n",
       "      <td>Last Annual Vol-State 500K Endurance Run (USA)</td>\n",
       "      <td>500.00</td>\n",
       "      <td>50</td>\n",
       "      <td>0.00</td>\n",
       "      <td>Unknown</td>\n",
       "      <td>USA</td>\n",
       "      <td>1956</td>\n",
       "      <td>F</td>\n",
       "      <td>W60</td>\n",
       "      <td>2.089</td>\n",
       "      <td>818607</td>\n",
       "      <td>km</td>\n",
       "      <td>2020-07-09</td>\n",
       "      <td>2020-07-19</td>\n",
       "      <td>9d 23:18:14</td>\n",
       "    </tr>\n",
       "    <tr>\n",
       "      <th>3662035</th>\n",
       "      <td>1997</td>\n",
       "      <td>1000 Mile Stadium Run Odessa - 1000km Split (UKR)</td>\n",
       "      <td>1000.00</td>\n",
       "      <td>2</td>\n",
       "      <td>0.00</td>\n",
       "      <td>Unknown</td>\n",
       "      <td>GER</td>\n",
       "      <td>1960</td>\n",
       "      <td>F</td>\n",
       "      <td>W35</td>\n",
       "      <td>4.19</td>\n",
       "      <td>76721</td>\n",
       "      <td>km</td>\n",
       "      <td>1997-10-05</td>\n",
       "      <td>1997-10-21</td>\n",
       "      <td>9d 22:52:11</td>\n",
       "    </tr>\n",
       "    <tr>\n",
       "      <th>3907544</th>\n",
       "      <td>2001</td>\n",
       "      <td>Sri Chinmoy Ultra Trio 700 Mile Race (USA)</td>\n",
       "      <td>700.00</td>\n",
       "      <td>9</td>\n",
       "      <td>0.00</td>\n",
       "      <td>Melbourne</td>\n",
       "      <td>AUS</td>\n",
       "      <td>1958</td>\n",
       "      <td>F</td>\n",
       "      <td>W40</td>\n",
       "      <td>4.73</td>\n",
       "      <td>1066163</td>\n",
       "      <td>mi</td>\n",
       "      <td>2011-09-10</td>\n",
       "      <td>2011-09-23</td>\n",
       "      <td>9d 22:19:31</td>\n",
       "    </tr>\n",
       "  </tbody>\n",
       "</table>\n",
       "</div>"
      ],
      "text/plain": [
       "         year_of_event                                         event_name  \\\n",
       "2463669           2019     Across the Years, 10 days - 1000km Split (USA)   \n",
       "2937252           2021  The Last Annual Heart of the South Road Race (...   \n",
       "2578723           2020     Last Annual Vol-State 500K Endurance Run (USA)   \n",
       "3662035           1997  1000 Mile Stadium Run Odessa - 1000km Split (UKR)   \n",
       "3907544           2001         Sri Chinmoy Ultra Trio 700 Mile Race (USA)   \n",
       "\n",
       "         distance_or_length  no_of_finishers  total_distance athlete_club  \\\n",
       "2463669             1000.00                5            0.00  Seattle, WA   \n",
       "2937252              326.00               46            0.00  Newland, NC   \n",
       "2578723              500.00               50            0.00      Unknown   \n",
       "3662035             1000.00                2            0.00      Unknown   \n",
       "3907544              700.00                9            0.00    Melbourne   \n",
       "\n",
       "        athlete_country  birth_year gender age_category average_speed  \\\n",
       "2463669             USA        1971      F          W45         4.174   \n",
       "2937252             USA        1982      F          W35         2.191   \n",
       "2578723             USA        1956      F          W60         2.089   \n",
       "3662035             GER        1960      F          W35          4.19   \n",
       "3907544             AUS        1958      F          W40          4.73   \n",
       "\n",
       "         athlete_id race_metric  start_date    end_date fastest_time  \n",
       "2463669       11736          km  2019-12-28  2020-01-07  9d 23:33:16  \n",
       "2937252      901860          mi  2021-06-17  2021-06-27  9d 23:25:26  \n",
       "2578723      818607          km  2020-07-09  2020-07-19  9d 23:18:14  \n",
       "3662035       76721          km  1997-10-05  1997-10-21  9d 22:52:11  \n",
       "3907544     1066163          mi  2011-09-10  2011-09-23  9d 22:19:31  "
      ]
     },
     "execution_count": 109,
     "metadata": {},
     "output_type": "execute_result"
    }
   ],
   "source": [
    "winners_female.head()"
   ]
  },
  {
   "cell_type": "code",
   "execution_count": 110,
   "metadata": {},
   "outputs": [
    {
     "data": {
      "text/html": [
       "<div>\n",
       "<style scoped>\n",
       "    .dataframe tbody tr th:only-of-type {\n",
       "        vertical-align: middle;\n",
       "    }\n",
       "\n",
       "    .dataframe tbody tr th {\n",
       "        vertical-align: top;\n",
       "    }\n",
       "\n",
       "    .dataframe thead th {\n",
       "        text-align: right;\n",
       "    }\n",
       "</style>\n",
       "<table border=\"1\" class=\"dataframe\">\n",
       "  <thead>\n",
       "    <tr style=\"text-align: right;\">\n",
       "      <th></th>\n",
       "      <th>athlete_id</th>\n",
       "      <th>count</th>\n",
       "      <th>idx</th>\n",
       "    </tr>\n",
       "  </thead>\n",
       "  <tbody>\n",
       "    <tr>\n",
       "      <th>0</th>\n",
       "      <td>21217</td>\n",
       "      <td>41</td>\n",
       "      <td>1</td>\n",
       "    </tr>\n",
       "    <tr>\n",
       "      <th>1</th>\n",
       "      <td>89417</td>\n",
       "      <td>33</td>\n",
       "      <td>2</td>\n",
       "    </tr>\n",
       "    <tr>\n",
       "      <th>2</th>\n",
       "      <td>13073</td>\n",
       "      <td>29</td>\n",
       "      <td>3</td>\n",
       "    </tr>\n",
       "    <tr>\n",
       "      <th>3</th>\n",
       "      <td>217355</td>\n",
       "      <td>24</td>\n",
       "      <td>4</td>\n",
       "    </tr>\n",
       "    <tr>\n",
       "      <th>4</th>\n",
       "      <td>236</td>\n",
       "      <td>24</td>\n",
       "      <td>5</td>\n",
       "    </tr>\n",
       "    <tr>\n",
       "      <th>...</th>\n",
       "      <td>...</td>\n",
       "      <td>...</td>\n",
       "      <td>...</td>\n",
       "    </tr>\n",
       "    <tr>\n",
       "      <th>22109</th>\n",
       "      <td>903785</td>\n",
       "      <td>1</td>\n",
       "      <td>22110</td>\n",
       "    </tr>\n",
       "    <tr>\n",
       "      <th>22110</th>\n",
       "      <td>386186</td>\n",
       "      <td>1</td>\n",
       "      <td>22111</td>\n",
       "    </tr>\n",
       "    <tr>\n",
       "      <th>22111</th>\n",
       "      <td>350095</td>\n",
       "      <td>1</td>\n",
       "      <td>22112</td>\n",
       "    </tr>\n",
       "    <tr>\n",
       "      <th>22112</th>\n",
       "      <td>570232</td>\n",
       "      <td>1</td>\n",
       "      <td>22113</td>\n",
       "    </tr>\n",
       "    <tr>\n",
       "      <th>22113</th>\n",
       "      <td>100195</td>\n",
       "      <td>1</td>\n",
       "      <td>22114</td>\n",
       "    </tr>\n",
       "  </tbody>\n",
       "</table>\n",
       "<p>22114 rows × 3 columns</p>\n",
       "</div>"
      ],
      "text/plain": [
       "       athlete_id  count    idx\n",
       "0           21217     41      1\n",
       "1           89417     33      2\n",
       "2           13073     29      3\n",
       "3          217355     24      4\n",
       "4             236     24      5\n",
       "...           ...    ...    ...\n",
       "22109      903785      1  22110\n",
       "22110      386186      1  22111\n",
       "22111      350095      1  22112\n",
       "22112      570232      1  22113\n",
       "22113      100195      1  22114\n",
       "\n",
       "[22114 rows x 3 columns]"
      ]
     },
     "execution_count": 110,
     "metadata": {},
     "output_type": "execute_result"
    }
   ],
   "source": [
    "winner_val_cnt_M = winners_male['athlete_id'].value_counts().reset_index()\n",
    "winner_val_cnt_F = winners_female['athlete_id'].value_counts().reset_index()\n",
    "winner_val_cnt_F['idx'] = winner_val_cnt_F.index + 1\n",
    "winner_val_cnt_M['idx'] = winner_val_cnt_M.index + 1\n",
    "winner_val_cnt_M"
   ]
  },
  {
   "cell_type": "code",
   "execution_count": 111,
   "metadata": {},
   "outputs": [
    {
     "name": "stderr",
     "output_type": "stream",
     "text": [
      "No artists with labels found to put in legend.  Note that artists whose label start with an underscore are ignored when legend() is called with no argument.\n"
     ]
    },
    {
     "data": {
      "text/plain": [
       "'\\nI need to properly align the tick marks on both plots\\nI need to check out the plotted lines on both figures and find out if this is the way to properly display that data.\\n'"
      ]
     },
     "execution_count": 111,
     "metadata": {},
     "output_type": "execute_result"
    },
    {
     "data": {
      "image/png": "[encoded data removed]",
      "text/plain": [
       "<Figure size 1000x500 with 2 Axes>"
      ]
     },
     "metadata": {},
     "output_type": "display_data"
    }
   ],
   "source": [
    "fig, ax = plt.subplots(1, 2, figsize = (10, 5))\n",
    "sns.barplot(data = winner_val_cnt_M.head(15), x = 'idx', y = 'count', ax = ax[0])\n",
    "sns.barplot(data = winner_val_cnt_F.head(15), x = 'idx', y = 'count', ax = ax[1])\n",
    "ax[0].set_title('Top 15 male racers with the most wins')\n",
    "ax[0].set_xlabel('# of times 1st place was achieved')\n",
    "ax[0].set_ylabel('# of 1st place wins')\n",
    "ax[0].set_yticks(np.arange(0, 71, 10))\n",
    "ax[1].set_title('Top 15 female racers with the most wins')\n",
    "ax[1].set_xlabel('# of times 1st place was achieved')\n",
    "ax[1].set_ylabel('# of 1st place wins')\n",
    "ax[1].set_yticks(np.arange(0, 71, 10))\n",
    "plt.tight_layout()\n",
    "'''\n",
    "I need to properly align the tick marks on both plots\n",
    "I need to check out the plotted lines on both figures and find out if this is the way to properly display that data.\n",
    "'''"
   ]
  },
  {
   "cell_type": "code",
   "execution_count": 129,
   "metadata": {},
   "outputs": [
    {
     "data": {
      "text/html": [
       "<div>\n",
       "<style scoped>\n",
       "    .dataframe tbody tr th:only-of-type {\n",
       "        vertical-align: middle;\n",
       "    }\n",
       "\n",
       "    .dataframe tbody tr th {\n",
       "        vertical-align: top;\n",
       "    }\n",
       "\n",
       "    .dataframe thead th {\n",
       "        text-align: right;\n",
       "    }\n",
       "</style>\n",
       "<table border=\"1\" class=\"dataframe\">\n",
       "  <thead>\n",
       "    <tr style=\"text-align: right;\">\n",
       "      <th></th>\n",
       "      <th>year_of_event</th>\n",
       "      <th>event_name</th>\n",
       "      <th>distance_or_length</th>\n",
       "      <th>no_of_finishers</th>\n",
       "      <th>total_distance</th>\n",
       "      <th>athlete_club</th>\n",
       "      <th>athlete_country</th>\n",
       "      <th>birth_year</th>\n",
       "      <th>gender</th>\n",
       "      <th>age_category</th>\n",
       "      <th>average_speed</th>\n",
       "      <th>athlete_id</th>\n",
       "      <th>race_metric</th>\n",
       "      <th>start_date</th>\n",
       "      <th>end_date</th>\n",
       "      <th>fastest_time</th>\n",
       "    </tr>\n",
       "  </thead>\n",
       "  <tbody>\n",
       "    <tr>\n",
       "      <th>5516610</th>\n",
       "      <td>2012</td>\n",
       "      <td>Pass Mountain 50 km Race (USA)</td>\n",
       "      <td>50.00</td>\n",
       "      <td>41</td>\n",
       "      <td>0.00</td>\n",
       "      <td>Gilbert, AZ</td>\n",
       "      <td>USA</td>\n",
       "      <td>1974</td>\n",
       "      <td>F</td>\n",
       "      <td>W35</td>\n",
       "      <td>49.793</td>\n",
       "      <td>1341920</td>\n",
       "      <td>km</td>\n",
       "      <td>2012-11-10</td>\n",
       "      <td>2012-11-10</td>\n",
       "      <td>0 days 01:00:15</td>\n",
       "    </tr>\n",
       "    <tr>\n",
       "      <th>3010431</th>\n",
       "      <td>2021</td>\n",
       "      <td>Les 50km du Castellet (FRA)</td>\n",
       "      <td>50.00</td>\n",
       "      <td>3</td>\n",
       "      <td>0.00</td>\n",
       "      <td>Unknown</td>\n",
       "      <td>KEN</td>\n",
       "      <td>1998</td>\n",
       "      <td>F</td>\n",
       "      <td>W23</td>\n",
       "      <td>16.645</td>\n",
       "      <td>916199</td>\n",
       "      <td>km</td>\n",
       "      <td>2021-10-21</td>\n",
       "      <td>2021-10-21</td>\n",
       "      <td>0 days 03:00:14</td>\n",
       "    </tr>\n",
       "    <tr>\n",
       "      <th>2819704</th>\n",
       "      <td>2021</td>\n",
       "      <td>50Km Nedbank Ultra Marathon Runified - women's...</td>\n",
       "      <td>50.00</td>\n",
       "      <td>22</td>\n",
       "      <td>0.00</td>\n",
       "      <td>Nedbank Running Club</td>\n",
       "      <td>RSA</td>\n",
       "      <td>1987</td>\n",
       "      <td>F</td>\n",
       "      <td>W23</td>\n",
       "      <td>16.269</td>\n",
       "      <td>665818</td>\n",
       "      <td>km</td>\n",
       "      <td>2021-05-23</td>\n",
       "      <td>2021-05-23</td>\n",
       "      <td>0 days 03:04:24</td>\n",
       "    </tr>\n",
       "    <tr>\n",
       "      <th>2581692</th>\n",
       "      <td>2020</td>\n",
       "      <td>Schleswiger Kreisbahn Marathon (GER)</td>\n",
       "      <td>4.00</td>\n",
       "      <td>31</td>\n",
       "      <td>0.00</td>\n",
       "      <td>Kieler Eskalationsteam</td>\n",
       "      <td>GER</td>\n",
       "      <td>1986</td>\n",
       "      <td>F</td>\n",
       "      <td>W30</td>\n",
       "      <td>14.584</td>\n",
       "      <td>806475</td>\n",
       "      <td>km</td>\n",
       "      <td>2020-06-20</td>\n",
       "      <td>2020-06-20</td>\n",
       "      <td>0 days 03:10:54</td>\n",
       "    </tr>\n",
       "    <tr>\n",
       "      <th>7459157</th>\n",
       "      <td>1995</td>\n",
       "      <td>Redwood Empire 12 Hour Run - 50km Split (USA)</td>\n",
       "      <td>50.00</td>\n",
       "      <td>1</td>\n",
       "      <td>0.00</td>\n",
       "      <td>Unknown</td>\n",
       "      <td>USA</td>\n",
       "      <td>1960</td>\n",
       "      <td>F</td>\n",
       "      <td>W23</td>\n",
       "      <td>14971.00</td>\n",
       "      <td>19566</td>\n",
       "      <td>km</td>\n",
       "      <td>1995-03-18</td>\n",
       "      <td>1995-03-18</td>\n",
       "      <td>0 days 03:20:23</td>\n",
       "    </tr>\n",
       "    <tr>\n",
       "      <th>...</th>\n",
       "      <td>...</td>\n",
       "      <td>...</td>\n",
       "      <td>...</td>\n",
       "      <td>...</td>\n",
       "      <td>...</td>\n",
       "      <td>...</td>\n",
       "      <td>...</td>\n",
       "      <td>...</td>\n",
       "      <td>...</td>\n",
       "      <td>...</td>\n",
       "      <td>...</td>\n",
       "      <td>...</td>\n",
       "      <td>...</td>\n",
       "      <td>...</td>\n",
       "      <td>...</td>\n",
       "      <td>...</td>\n",
       "    </tr>\n",
       "    <tr>\n",
       "      <th>3703321</th>\n",
       "      <td>1997</td>\n",
       "      <td>Campeonato Int. 2000 kms Corriendo - 1000mi Sp...</td>\n",
       "      <td>1000.00</td>\n",
       "      <td>5</td>\n",
       "      <td>0.00</td>\n",
       "      <td>Unknown</td>\n",
       "      <td>MEX</td>\n",
       "      <td>1955</td>\n",
       "      <td>F</td>\n",
       "      <td>W40</td>\n",
       "      <td>4.31</td>\n",
       "      <td>1048259</td>\n",
       "      <td>mi</td>\n",
       "      <td>1997-03-02</td>\n",
       "      <td>1997-03-22</td>\n",
       "      <td>15 days 13:38:25</td>\n",
       "    </tr>\n",
       "    <tr>\n",
       "      <th>2558332</th>\n",
       "      <td>2020</td>\n",
       "      <td>Athens Int. Ultramarathon Festival - 1000 mile...</td>\n",
       "      <td>1000.00</td>\n",
       "      <td>1</td>\n",
       "      <td>0.00</td>\n",
       "      <td>Unknown</td>\n",
       "      <td>ROU</td>\n",
       "      <td>1977</td>\n",
       "      <td>F</td>\n",
       "      <td>W40</td>\n",
       "      <td>4.22</td>\n",
       "      <td>11922</td>\n",
       "      <td>mi</td>\n",
       "      <td>2020-01-16</td>\n",
       "      <td>2020-02-01</td>\n",
       "      <td>15 days 21:23:50</td>\n",
       "    </tr>\n",
       "    <tr>\n",
       "      <th>3703320</th>\n",
       "      <td>1997</td>\n",
       "      <td>Campeonato Int. 2000 kms Corriendo (MEX)</td>\n",
       "      <td>2000.00</td>\n",
       "      <td>1</td>\n",
       "      <td>0.00</td>\n",
       "      <td>Unknown</td>\n",
       "      <td>MEX</td>\n",
       "      <td>1955</td>\n",
       "      <td>F</td>\n",
       "      <td>W40</td>\n",
       "      <td>4.26</td>\n",
       "      <td>1048259</td>\n",
       "      <td>km</td>\n",
       "      <td>1997-03-02</td>\n",
       "      <td>1997-03-22</td>\n",
       "      <td>19 days 13:38:25</td>\n",
       "    </tr>\n",
       "    <tr>\n",
       "      <th>2539010</th>\n",
       "      <td>2020</td>\n",
       "      <td>Athens Int. Ultramarathon Festival - 2000 km, ...</td>\n",
       "      <td>1000.00</td>\n",
       "      <td>1</td>\n",
       "      <td>0.00</td>\n",
       "      <td>Unknown</td>\n",
       "      <td>GER</td>\n",
       "      <td>1944</td>\n",
       "      <td>F</td>\n",
       "      <td>W75</td>\n",
       "      <td>3.05</td>\n",
       "      <td>23288</td>\n",
       "      <td>mi</td>\n",
       "      <td>2020-02-02</td>\n",
       "      <td>2020-03-03</td>\n",
       "      <td>21 days 23:35:00</td>\n",
       "    </tr>\n",
       "    <tr>\n",
       "      <th>2539007</th>\n",
       "      <td>2020</td>\n",
       "      <td>Athens Int. Ultramarathon Festival - 2000 km (...</td>\n",
       "      <td>2000.00</td>\n",
       "      <td>1</td>\n",
       "      <td>0.00</td>\n",
       "      <td>Unknown</td>\n",
       "      <td>GER</td>\n",
       "      <td>1944</td>\n",
       "      <td>F</td>\n",
       "      <td>W75</td>\n",
       "      <td>2.956</td>\n",
       "      <td>23288</td>\n",
       "      <td>km</td>\n",
       "      <td>2020-02-02</td>\n",
       "      <td>2020-03-03</td>\n",
       "      <td>28 days 04:32:37</td>\n",
       "    </tr>\n",
       "  </tbody>\n",
       "</table>\n",
       "<p>801 rows × 16 columns</p>\n",
       "</div>"
      ],
      "text/plain": [
       "         year_of_event                                         event_name  \\\n",
       "5516610           2012                     Pass Mountain 50 km Race (USA)   \n",
       "3010431           2021                        Les 50km du Castellet (FRA)   \n",
       "2819704           2021  50Km Nedbank Ultra Marathon Runified - women's...   \n",
       "2581692           2020               Schleswiger Kreisbahn Marathon (GER)   \n",
       "7459157           1995      Redwood Empire 12 Hour Run - 50km Split (USA)   \n",
       "...                ...                                                ...   \n",
       "3703321           1997  Campeonato Int. 2000 kms Corriendo - 1000mi Sp...   \n",
       "2558332           2020  Athens Int. Ultramarathon Festival - 1000 mile...   \n",
       "3703320           1997           Campeonato Int. 2000 kms Corriendo (MEX)   \n",
       "2539010           2020  Athens Int. Ultramarathon Festival - 2000 km, ...   \n",
       "2539007           2020  Athens Int. Ultramarathon Festival - 2000 km (...   \n",
       "\n",
       "         distance_or_length  no_of_finishers  total_distance  \\\n",
       "5516610               50.00               41            0.00   \n",
       "3010431               50.00                3            0.00   \n",
       "2819704               50.00               22            0.00   \n",
       "2581692                4.00               31            0.00   \n",
       "7459157               50.00                1            0.00   \n",
       "...                     ...              ...             ...   \n",
       "3703321             1000.00                5            0.00   \n",
       "2558332             1000.00                1            0.00   \n",
       "3703320             2000.00                1            0.00   \n",
       "2539010             1000.00                1            0.00   \n",
       "2539007             2000.00                1            0.00   \n",
       "\n",
       "                   athlete_club athlete_country  birth_year gender  \\\n",
       "5516610             Gilbert, AZ             USA        1974      F   \n",
       "3010431                 Unknown             KEN        1998      F   \n",
       "2819704    Nedbank Running Club             RSA        1987      F   \n",
       "2581692  Kieler Eskalationsteam             GER        1986      F   \n",
       "7459157                 Unknown             USA        1960      F   \n",
       "...                         ...             ...         ...    ...   \n",
       "3703321                 Unknown             MEX        1955      F   \n",
       "2558332                 Unknown             ROU        1977      F   \n",
       "3703320                 Unknown             MEX        1955      F   \n",
       "2539010                 Unknown             GER        1944      F   \n",
       "2539007                 Unknown             GER        1944      F   \n",
       "\n",
       "        age_category average_speed  athlete_id race_metric  start_date  \\\n",
       "5516610          W35        49.793     1341920          km  2012-11-10   \n",
       "3010431          W23        16.645      916199          km  2021-10-21   \n",
       "2819704          W23        16.269      665818          km  2021-05-23   \n",
       "2581692          W30        14.584      806475          km  2020-06-20   \n",
       "7459157          W23      14971.00       19566          km  1995-03-18   \n",
       "...              ...           ...         ...         ...         ...   \n",
       "3703321          W40          4.31     1048259          mi  1997-03-02   \n",
       "2558332          W40          4.22       11922          mi  2020-01-16   \n",
       "3703320          W40          4.26     1048259          km  1997-03-02   \n",
       "2539010          W75          3.05       23288          mi  2020-02-02   \n",
       "2539007          W75         2.956       23288          km  2020-02-02   \n",
       "\n",
       "           end_date     fastest_time  \n",
       "5516610  2012-11-10  0 days 01:00:15  \n",
       "3010431  2021-10-21  0 days 03:00:14  \n",
       "2819704  2021-05-23  0 days 03:04:24  \n",
       "2581692  2020-06-20  0 days 03:10:54  \n",
       "7459157  1995-03-18  0 days 03:20:23  \n",
       "...             ...              ...  \n",
       "3703321  1997-03-22 15 days 13:38:25  \n",
       "2558332  2020-02-01 15 days 21:23:50  \n",
       "3703320  1997-03-22 19 days 13:38:25  \n",
       "2539010  2020-03-03 21 days 23:35:00  \n",
       "2539007  2020-03-03 28 days 04:32:37  \n",
       "\n",
       "[801 rows x 16 columns]"
      ]
     },
     "execution_count": 129,
     "metadata": {},
     "output_type": "execute_result"
    }
   ],
   "source": [
    "winners_overall_by_time = df[\n",
    "    (df['fastest_time'].notna()) &\n",
    "    (df['fastest_time'] > pd.to_timedelta(0, unit = 'm'))\n",
    "].sort_values(by = 'fastest_time', ascending = True).drop_duplicates(subset = 'event_name')\n",
    "winners_overall_by_time[winners_overall_by_time['gender'] == 'F']"
   ]
  },
  {
   "cell_type": "code",
   "execution_count": 127,
   "metadata": {},
   "outputs": [
    {
     "data": {
      "text/html": [
       "<div>\n",
       "<style scoped>\n",
       "    .dataframe tbody tr th:only-of-type {\n",
       "        vertical-align: middle;\n",
       "    }\n",
       "\n",
       "    .dataframe tbody tr th {\n",
       "        vertical-align: top;\n",
       "    }\n",
       "\n",
       "    .dataframe thead th {\n",
       "        text-align: right;\n",
       "    }\n",
       "</style>\n",
       "<table border=\"1\" class=\"dataframe\">\n",
       "  <thead>\n",
       "    <tr style=\"text-align: right;\">\n",
       "      <th></th>\n",
       "      <th>year_of_event</th>\n",
       "      <th>event_name</th>\n",
       "      <th>distance_or_length</th>\n",
       "      <th>no_of_finishers</th>\n",
       "      <th>total_distance</th>\n",
       "      <th>athlete_club</th>\n",
       "      <th>athlete_country</th>\n",
       "      <th>birth_year</th>\n",
       "      <th>gender</th>\n",
       "      <th>age_category</th>\n",
       "      <th>average_speed</th>\n",
       "      <th>athlete_id</th>\n",
       "      <th>race_metric</th>\n",
       "      <th>start_date</th>\n",
       "      <th>end_date</th>\n",
       "      <th>fastest_time</th>\n",
       "    </tr>\n",
       "  </thead>\n",
       "  <tbody>\n",
       "    <tr>\n",
       "      <th>2462947</th>\n",
       "      <td>2019</td>\n",
       "      <td>Across the Years, 10 days (USA)</td>\n",
       "      <td>10.00</td>\n",
       "      <td>55</td>\n",
       "      <td>1192.16</td>\n",
       "      <td>Sydney</td>\n",
       "      <td>AUS</td>\n",
       "      <td>1972</td>\n",
       "      <td>F</td>\n",
       "      <td>W45</td>\n",
       "      <td>4.967</td>\n",
       "      <td>19644</td>\n",
       "      <td>days</td>\n",
       "      <td>2019-12-28</td>\n",
       "      <td>2020-01-07</td>\n",
       "      <td>0 days</td>\n",
       "    </tr>\n",
       "    <tr>\n",
       "      <th>3140586</th>\n",
       "      <td>2022</td>\n",
       "      <td>6 Days UMF Winter Edition - 1000 Km - 6d Split...</td>\n",
       "      <td>6.00</td>\n",
       "      <td>2</td>\n",
       "      <td>792.02</td>\n",
       "      <td>Unknown</td>\n",
       "      <td>FRA</td>\n",
       "      <td>1965</td>\n",
       "      <td>F</td>\n",
       "      <td>W55</td>\n",
       "      <td>5.5</td>\n",
       "      <td>86284</td>\n",
       "      <td>days</td>\n",
       "      <td>2022-03-10</td>\n",
       "      <td>2022-03-16</td>\n",
       "      <td>0 days</td>\n",
       "    </tr>\n",
       "    <tr>\n",
       "      <th>3974000</th>\n",
       "      <td>2002</td>\n",
       "      <td>Sri Chinmoy Ultra Trio 700 Mile Race - 6d Spli...</td>\n",
       "      <td>6.00</td>\n",
       "      <td>6</td>\n",
       "      <td>788.58</td>\n",
       "      <td>SCMT</td>\n",
       "      <td>AUT</td>\n",
       "      <td>1959</td>\n",
       "      <td>F</td>\n",
       "      <td>W40</td>\n",
       "      <td>5.48</td>\n",
       "      <td>82231</td>\n",
       "      <td>days</td>\n",
       "      <td>2012-09-16</td>\n",
       "      <td>2012-09-22</td>\n",
       "      <td>0 days</td>\n",
       "    </tr>\n",
       "    <tr>\n",
       "      <th>2463614</th>\n",
       "      <td>2019</td>\n",
       "      <td>Across the Years, 10 days - 6d Split (USA)</td>\n",
       "      <td>6.00</td>\n",
       "      <td>51</td>\n",
       "      <td>758.80</td>\n",
       "      <td>Sydney</td>\n",
       "      <td>AUS</td>\n",
       "      <td>1972</td>\n",
       "      <td>F</td>\n",
       "      <td>W45</td>\n",
       "      <td>5.269</td>\n",
       "      <td>19644</td>\n",
       "      <td>days</td>\n",
       "      <td>2019-12-28</td>\n",
       "      <td>2020-01-07</td>\n",
       "      <td>0 days</td>\n",
       "    </tr>\n",
       "    <tr>\n",
       "      <th>2662994</th>\n",
       "      <td>2020</td>\n",
       "      <td>6 Days UMF - 10d (ITA)</td>\n",
       "      <td>10.00</td>\n",
       "      <td>4</td>\n",
       "      <td>758.48</td>\n",
       "      <td>Unknown</td>\n",
       "      <td>ITA</td>\n",
       "      <td>1957</td>\n",
       "      <td>F</td>\n",
       "      <td>W60</td>\n",
       "      <td>3.16</td>\n",
       "      <td>28631</td>\n",
       "      <td>days</td>\n",
       "      <td>2020-09-07</td>\n",
       "      <td>2020-09-17</td>\n",
       "      <td>0 days</td>\n",
       "    </tr>\n",
       "    <tr>\n",
       "      <th>...</th>\n",
       "      <td>...</td>\n",
       "      <td>...</td>\n",
       "      <td>...</td>\n",
       "      <td>...</td>\n",
       "      <td>...</td>\n",
       "      <td>...</td>\n",
       "      <td>...</td>\n",
       "      <td>...</td>\n",
       "      <td>...</td>\n",
       "      <td>...</td>\n",
       "      <td>...</td>\n",
       "      <td>...</td>\n",
       "      <td>...</td>\n",
       "      <td>...</td>\n",
       "      <td>...</td>\n",
       "      <td>...</td>\n",
       "    </tr>\n",
       "    <tr>\n",
       "      <th>1975933</th>\n",
       "      <td>2019</td>\n",
       "      <td>Hill Climb Challenge: Round 1 - Beerburrum - 6...</td>\n",
       "      <td>6.00</td>\n",
       "      <td>1</td>\n",
       "      <td>46.20</td>\n",
       "      <td>Unknown</td>\n",
       "      <td>AUS</td>\n",
       "      <td>1988</td>\n",
       "      <td>F</td>\n",
       "      <td>W23</td>\n",
       "      <td>7.7</td>\n",
       "      <td>66329</td>\n",
       "      <td>hours</td>\n",
       "      <td>2019-03-23</td>\n",
       "      <td>2019-03-23</td>\n",
       "      <td>0 days</td>\n",
       "    </tr>\n",
       "    <tr>\n",
       "      <th>83589</th>\n",
       "      <td>2018</td>\n",
       "      <td>Fat Ass Clark 6h (PHI)</td>\n",
       "      <td>6.00</td>\n",
       "      <td>1</td>\n",
       "      <td>46.20</td>\n",
       "      <td>Unknown</td>\n",
       "      <td>PHI</td>\n",
       "      <td>1988</td>\n",
       "      <td>F</td>\n",
       "      <td>W23</td>\n",
       "      <td>7.70</td>\n",
       "      <td>58368</td>\n",
       "      <td>hours</td>\n",
       "      <td>2018-01-06</td>\n",
       "      <td>2018-01-06</td>\n",
       "      <td>0 days</td>\n",
       "    </tr>\n",
       "    <tr>\n",
       "      <th>1871962</th>\n",
       "      <td>2019</td>\n",
       "      <td>The First Walk - 6h (HKG)</td>\n",
       "      <td>6.00</td>\n",
       "      <td>1</td>\n",
       "      <td>46.00</td>\n",
       "      <td>Unknown</td>\n",
       "      <td>HKG</td>\n",
       "      <td>1964</td>\n",
       "      <td>F</td>\n",
       "      <td>W50</td>\n",
       "      <td>7.667</td>\n",
       "      <td>660787</td>\n",
       "      <td>hours</td>\n",
       "      <td>2019-01-01</td>\n",
       "      <td>2019-01-01</td>\n",
       "      <td>0 days</td>\n",
       "    </tr>\n",
       "    <tr>\n",
       "      <th>1612378</th>\n",
       "      <td>2017</td>\n",
       "      <td>Silverton 6 hour Challenge (USA)</td>\n",
       "      <td>6.00</td>\n",
       "      <td>1</td>\n",
       "      <td>45.06</td>\n",
       "      <td>San Francisco, CA</td>\n",
       "      <td>USA</td>\n",
       "      <td>1988</td>\n",
       "      <td>F</td>\n",
       "      <td>W23</td>\n",
       "      <td>7.51</td>\n",
       "      <td>165373</td>\n",
       "      <td>hours</td>\n",
       "      <td>2017-08-16</td>\n",
       "      <td>2017-08-16</td>\n",
       "      <td>0 days</td>\n",
       "    </tr>\n",
       "    <tr>\n",
       "      <th>2694060</th>\n",
       "      <td>2020</td>\n",
       "      <td>New Years Eve Rock around the Clock 6hr (AUS)</td>\n",
       "      <td>6.00</td>\n",
       "      <td>1</td>\n",
       "      <td>45.00</td>\n",
       "      <td>Unknown</td>\n",
       "      <td>AUS</td>\n",
       "      <td>1976</td>\n",
       "      <td>F</td>\n",
       "      <td>W40</td>\n",
       "      <td>7.5</td>\n",
       "      <td>843080</td>\n",
       "      <td>hours</td>\n",
       "      <td>2020-12-31</td>\n",
       "      <td>2020-12-31</td>\n",
       "      <td>0 days</td>\n",
       "    </tr>\n",
       "  </tbody>\n",
       "</table>\n",
       "<p>575 rows × 16 columns</p>\n",
       "</div>"
      ],
      "text/plain": [
       "         year_of_event                                         event_name  \\\n",
       "2462947           2019                    Across the Years, 10 days (USA)   \n",
       "3140586           2022  6 Days UMF Winter Edition - 1000 Km - 6d Split...   \n",
       "3974000           2002  Sri Chinmoy Ultra Trio 700 Mile Race - 6d Spli...   \n",
       "2463614           2019         Across the Years, 10 days - 6d Split (USA)   \n",
       "2662994           2020                             6 Days UMF - 10d (ITA)   \n",
       "...                ...                                                ...   \n",
       "1975933           2019  Hill Climb Challenge: Round 1 - Beerburrum - 6...   \n",
       "83589             2018                             Fat Ass Clark 6h (PHI)   \n",
       "1871962           2019                          The First Walk - 6h (HKG)   \n",
       "1612378           2017                   Silverton 6 hour Challenge (USA)   \n",
       "2694060           2020      New Years Eve Rock around the Clock 6hr (AUS)   \n",
       "\n",
       "         distance_or_length  no_of_finishers  total_distance  \\\n",
       "2462947               10.00               55         1192.16   \n",
       "3140586                6.00                2          792.02   \n",
       "3974000                6.00                6          788.58   \n",
       "2463614                6.00               51          758.80   \n",
       "2662994               10.00                4          758.48   \n",
       "...                     ...              ...             ...   \n",
       "1975933                6.00                1           46.20   \n",
       "83589                  6.00                1           46.20   \n",
       "1871962                6.00                1           46.00   \n",
       "1612378                6.00                1           45.06   \n",
       "2694060                6.00                1           45.00   \n",
       "\n",
       "              athlete_club athlete_country  birth_year gender age_category  \\\n",
       "2462947             Sydney             AUS        1972      F          W45   \n",
       "3140586            Unknown             FRA        1965      F          W55   \n",
       "3974000               SCMT             AUT        1959      F          W40   \n",
       "2463614             Sydney             AUS        1972      F          W45   \n",
       "2662994            Unknown             ITA        1957      F          W60   \n",
       "...                    ...             ...         ...    ...          ...   \n",
       "1975933            Unknown             AUS        1988      F          W23   \n",
       "83589              Unknown             PHI        1988      F          W23   \n",
       "1871962            Unknown             HKG        1964      F          W50   \n",
       "1612378  San Francisco, CA             USA        1988      F          W23   \n",
       "2694060            Unknown             AUS        1976      F          W40   \n",
       "\n",
       "        average_speed  athlete_id race_metric  start_date    end_date  \\\n",
       "2462947         4.967       19644        days  2019-12-28  2020-01-07   \n",
       "3140586           5.5       86284        days  2022-03-10  2022-03-16   \n",
       "3974000          5.48       82231        days  2012-09-16  2012-09-22   \n",
       "2463614         5.269       19644        days  2019-12-28  2020-01-07   \n",
       "2662994          3.16       28631        days  2020-09-07  2020-09-17   \n",
       "...               ...         ...         ...         ...         ...   \n",
       "1975933           7.7       66329       hours  2019-03-23  2019-03-23   \n",
       "83589            7.70       58368       hours  2018-01-06  2018-01-06   \n",
       "1871962         7.667      660787       hours  2019-01-01  2019-01-01   \n",
       "1612378          7.51      165373       hours  2017-08-16  2017-08-16   \n",
       "2694060           7.5      843080       hours  2020-12-31  2020-12-31   \n",
       "\n",
       "        fastest_time  \n",
       "2462947       0 days  \n",
       "3140586       0 days  \n",
       "3974000       0 days  \n",
       "2463614       0 days  \n",
       "2662994       0 days  \n",
       "...              ...  \n",
       "1975933       0 days  \n",
       "83589         0 days  \n",
       "1871962       0 days  \n",
       "1612378       0 days  \n",
       "2694060       0 days  \n",
       "\n",
       "[575 rows x 16 columns]"
      ]
     },
     "execution_count": 127,
     "metadata": {},
     "output_type": "execute_result"
    }
   ],
   "source": [
    "winners_overall_by_vol = df.sort_values(by = 'total_distance', ascending = False).drop_duplicates(subset = 'event_name')\n",
    "winners_overall_by_vol[(winners_overall_by_vol['total_distance'] > 0) & (winners_overall_by_vol['gender'] == 'F')]"
   ]
  },
  {
   "cell_type": "code",
   "execution_count": 116,
   "metadata": {},
   "outputs": [
    {
     "data": {
      "text/plain": [
       "26907"
      ]
     },
     "execution_count": 116,
     "metadata": {},
     "output_type": "execute_result"
    }
   ],
   "source": [
    "df['event_name'].nunique()"
   ]
  }
 ],
 "metadata": {
  "kernelspec": {
   "display_name": "base",
   "language": "python",
   "name": "python3"
  },
  "language_info": {
   "codemirror_mode": {
    "name": "ipython",
    "version": 3
   },
   "file_extension": ".py",
   "mimetype": "text/x-python",
   "name": "python",
   "nbconvert_exporter": "python",
   "pygments_lexer": "ipython3",
   "version": "3.11.5"
  }
 },
 "nbformat": 4,
 "nbformat_minor": 2
}
