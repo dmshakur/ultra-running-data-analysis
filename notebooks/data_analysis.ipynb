{
 "cells": [
  {
   "cell_type": "code",
   "execution_count": 2,
   "metadata": {},
   "outputs": [],
   "source": [
    "# Importing libraries and setting pandas to not display anything in scientific notation.\n",
    "\n",
    "import seaborn as sns\n",
    "import pandas as pd\n",
    "import numpy as np\n",
    "import matplotlib.pyplot as plt\n",
    "import plotly.express as px\n",
    "import warnings\n",
    "warnings.filterwarnings('ignore', category=FutureWarning)\n",
    "\n",
    "\n",
    "pd.set_option('display.float_format', '{:.2f}'.format)\n",
    "fig_path = '../figures/'"
   ]
  },
  {
   "cell_type": "code",
   "execution_count": 3,
   "metadata": {},
   "outputs": [
    {
     "name": "stderr",
     "output_type": "stream",
     "text": [
      "C:\\Users\\OMEN\\AppData\\Local\\Temp\\ipykernel_21240\\2378424342.py:3: DtypeWarning: Columns (11) have mixed types. Specify dtype option on import or set low_memory=False.\n",
      "  df = pd.read_csv('../data/ultra_marathons_data_cleaned.csv')\n"
     ]
    },
    {
     "data": {
      "text/html": [
       "<div>\n",
       "<style scoped>\n",
       "    .dataframe tbody tr th:only-of-type {\n",
       "        vertical-align: middle;\n",
       "    }\n",
       "\n",
       "    .dataframe tbody tr th {\n",
       "        vertical-align: top;\n",
       "    }\n",
       "\n",
       "    .dataframe thead th {\n",
       "        text-align: right;\n",
       "    }\n",
       "</style>\n",
       "<table border=\"1\" class=\"dataframe\">\n",
       "  <thead>\n",
       "    <tr style=\"text-align: right;\">\n",
       "      <th></th>\n",
       "      <th>year_of_event</th>\n",
       "      <th>event_name</th>\n",
       "      <th>distance_or_length</th>\n",
       "      <th>no_of_finishers</th>\n",
       "      <th>total_distance</th>\n",
       "      <th>athlete_club</th>\n",
       "      <th>athlete_country</th>\n",
       "      <th>birth_year</th>\n",
       "      <th>gender</th>\n",
       "      <th>age_category</th>\n",
       "      <th>average_speed</th>\n",
       "      <th>athlete_id</th>\n",
       "      <th>race_metric</th>\n",
       "      <th>start_date</th>\n",
       "      <th>end_date</th>\n",
       "      <th>fastest_time</th>\n",
       "    </tr>\n",
       "  </thead>\n",
       "  <tbody>\n",
       "    <tr>\n",
       "      <th>0</th>\n",
       "      <td>2018</td>\n",
       "      <td>Selva Costera (CHI)</td>\n",
       "      <td>50.00</td>\n",
       "      <td>22</td>\n",
       "      <td>0.00</td>\n",
       "      <td>Tnfrc</td>\n",
       "      <td>CHI</td>\n",
       "      <td>1978</td>\n",
       "      <td>M</td>\n",
       "      <td>M35</td>\n",
       "      <td>10.286</td>\n",
       "      <td>0</td>\n",
       "      <td>km</td>\n",
       "      <td>2018-01-06</td>\n",
       "      <td>2018-01-06</td>\n",
       "      <td>0 days 04:51:39</td>\n",
       "    </tr>\n",
       "    <tr>\n",
       "      <th>1</th>\n",
       "      <td>2018</td>\n",
       "      <td>Selva Costera (CHI)</td>\n",
       "      <td>50.00</td>\n",
       "      <td>22</td>\n",
       "      <td>0.00</td>\n",
       "      <td>Roberto Echeverría</td>\n",
       "      <td>CHI</td>\n",
       "      <td>1981</td>\n",
       "      <td>M</td>\n",
       "      <td>M35</td>\n",
       "      <td>9.501</td>\n",
       "      <td>1</td>\n",
       "      <td>km</td>\n",
       "      <td>2018-01-06</td>\n",
       "      <td>2018-01-06</td>\n",
       "      <td>0 days 05:15:45</td>\n",
       "    </tr>\n",
       "    <tr>\n",
       "      <th>2</th>\n",
       "      <td>2018</td>\n",
       "      <td>Selva Costera (CHI)</td>\n",
       "      <td>50.00</td>\n",
       "      <td>22</td>\n",
       "      <td>0.00</td>\n",
       "      <td>Puro Trail Osorno</td>\n",
       "      <td>CHI</td>\n",
       "      <td>1987</td>\n",
       "      <td>M</td>\n",
       "      <td>M23</td>\n",
       "      <td>9.472</td>\n",
       "      <td>2</td>\n",
       "      <td>km</td>\n",
       "      <td>2018-01-06</td>\n",
       "      <td>2018-01-06</td>\n",
       "      <td>0 days 05:16:44</td>\n",
       "    </tr>\n",
       "    <tr>\n",
       "      <th>3</th>\n",
       "      <td>2018</td>\n",
       "      <td>Selva Costera (CHI)</td>\n",
       "      <td>50.00</td>\n",
       "      <td>22</td>\n",
       "      <td>0.00</td>\n",
       "      <td>Columbia</td>\n",
       "      <td>ARG</td>\n",
       "      <td>1976</td>\n",
       "      <td>M</td>\n",
       "      <td>M40</td>\n",
       "      <td>8.976</td>\n",
       "      <td>3</td>\n",
       "      <td>km</td>\n",
       "      <td>2018-01-06</td>\n",
       "      <td>2018-01-06</td>\n",
       "      <td>0 days 05:34:13</td>\n",
       "    </tr>\n",
       "    <tr>\n",
       "      <th>4</th>\n",
       "      <td>2018</td>\n",
       "      <td>Selva Costera (CHI)</td>\n",
       "      <td>50.00</td>\n",
       "      <td>22</td>\n",
       "      <td>0.00</td>\n",
       "      <td>Baguales Trail</td>\n",
       "      <td>CHI</td>\n",
       "      <td>1992</td>\n",
       "      <td>M</td>\n",
       "      <td>M23</td>\n",
       "      <td>8.469</td>\n",
       "      <td>4</td>\n",
       "      <td>km</td>\n",
       "      <td>2018-01-06</td>\n",
       "      <td>2018-01-06</td>\n",
       "      <td>0 days 05:54:14</td>\n",
       "    </tr>\n",
       "  </tbody>\n",
       "</table>\n",
       "</div>"
      ],
      "text/plain": [
       "   year_of_event           event_name  distance_or_length  no_of_finishers  \\\n",
       "0           2018  Selva Costera (CHI)               50.00               22   \n",
       "1           2018  Selva Costera (CHI)               50.00               22   \n",
       "2           2018  Selva Costera (CHI)               50.00               22   \n",
       "3           2018  Selva Costera (CHI)               50.00               22   \n",
       "4           2018  Selva Costera (CHI)               50.00               22   \n",
       "\n",
       "   total_distance        athlete_club athlete_country  birth_year gender  \\\n",
       "0            0.00               Tnfrc             CHI        1978      M   \n",
       "1            0.00  Roberto Echeverría             CHI        1981      M   \n",
       "2            0.00   Puro Trail Osorno             CHI        1987      M   \n",
       "3            0.00            Columbia             ARG        1976      M   \n",
       "4            0.00      Baguales Trail             CHI        1992      M   \n",
       "\n",
       "  age_category average_speed  athlete_id race_metric  start_date    end_date  \\\n",
       "0          M35        10.286           0          km  2018-01-06  2018-01-06   \n",
       "1          M35         9.501           1          km  2018-01-06  2018-01-06   \n",
       "2          M23         9.472           2          km  2018-01-06  2018-01-06   \n",
       "3          M40         8.976           3          km  2018-01-06  2018-01-06   \n",
       "4          M23         8.469           4          km  2018-01-06  2018-01-06   \n",
       "\n",
       "     fastest_time  \n",
       "0 0 days 04:51:39  \n",
       "1 0 days 05:15:45  \n",
       "2 0 days 05:16:44  \n",
       "3 0 days 05:34:13  \n",
       "4 0 days 05:54:14  "
      ]
     },
     "execution_count": 3,
     "metadata": {},
     "output_type": "execute_result"
    }
   ],
   "source": [
    "# Importing csv file into pandas, converting one column to a to_timedelta\n",
    "\n",
    "df = pd.read_csv('../data/ultra_marathons_data_cleaned.csv')\n",
    "try:\n",
    "    df.drop('Unnamed: 0', axis=1, inplace=True)\n",
    "except:\n",
    "    pass\n",
    "\n",
    "df['fastest_time'] = pd.to_timedelta(df['fastest_time'], errors='coerce')\n",
    "df.head()"
   ]
  },
  {
   "cell_type": "code",
   "execution_count": 4,
   "metadata": {},
   "outputs": [
    {
     "data": {
      "text/plain": [
       "year_of_event            0\n",
       "event_name               0\n",
       "distance_or_length    1436\n",
       "no_of_finishers          0\n",
       "total_distance           2\n",
       "athlete_club            42\n",
       "athlete_country          3\n",
       "birth_year               0\n",
       "gender                   7\n",
       "age_category             0\n",
       "average_speed          224\n",
       "athlete_id               0\n",
       "race_metric           1436\n",
       "start_date               0\n",
       "end_date                19\n",
       "fastest_time           189\n",
       "dtype: int64"
      ]
     },
     "execution_count": 4,
     "metadata": {},
     "output_type": "execute_result"
    }
   ],
   "source": [
    "# Checking to see how many null values are in the dataset. Some values are not fixable unfortunately, at least not with this data.\n",
    "\n",
    "df.isnull().sum()"
   ]
  },
  {
   "cell_type": "code",
   "execution_count": 5,
   "metadata": {},
   "outputs": [
    {
     "data": {
      "text/html": [
       "<div>\n",
       "<style scoped>\n",
       "    .dataframe tbody tr th:only-of-type {\n",
       "        vertical-align: middle;\n",
       "    }\n",
       "\n",
       "    .dataframe tbody tr th {\n",
       "        vertical-align: top;\n",
       "    }\n",
       "\n",
       "    .dataframe thead th {\n",
       "        text-align: right;\n",
       "    }\n",
       "</style>\n",
       "<table border=\"1\" class=\"dataframe\">\n",
       "  <thead>\n",
       "    <tr style=\"text-align: right;\">\n",
       "      <th></th>\n",
       "      <th>year_of_event</th>\n",
       "      <th>event_name</th>\n",
       "      <th>distance_or_length</th>\n",
       "      <th>no_of_finishers</th>\n",
       "      <th>total_distance</th>\n",
       "      <th>athlete_club</th>\n",
       "      <th>athlete_country</th>\n",
       "      <th>birth_year</th>\n",
       "      <th>gender</th>\n",
       "      <th>age_category</th>\n",
       "      <th>average_speed</th>\n",
       "      <th>athlete_id</th>\n",
       "      <th>race_metric</th>\n",
       "      <th>start_date</th>\n",
       "      <th>end_date</th>\n",
       "      <th>fastest_time</th>\n",
       "    </tr>\n",
       "  </thead>\n",
       "  <tbody>\n",
       "    <tr>\n",
       "      <th>0</th>\n",
       "      <td>2018</td>\n",
       "      <td>Selva Costera (CHI)</td>\n",
       "      <td>31.07</td>\n",
       "      <td>22</td>\n",
       "      <td>0.00</td>\n",
       "      <td>Tnfrc</td>\n",
       "      <td>CHI</td>\n",
       "      <td>1978</td>\n",
       "      <td>M</td>\n",
       "      <td>M35</td>\n",
       "      <td>10.286</td>\n",
       "      <td>0</td>\n",
       "      <td>mi</td>\n",
       "      <td>2018-01-06</td>\n",
       "      <td>2018-01-06</td>\n",
       "      <td>0 days 04:51:39</td>\n",
       "    </tr>\n",
       "    <tr>\n",
       "      <th>1</th>\n",
       "      <td>2018</td>\n",
       "      <td>Selva Costera (CHI)</td>\n",
       "      <td>31.07</td>\n",
       "      <td>22</td>\n",
       "      <td>0.00</td>\n",
       "      <td>Roberto Echeverría</td>\n",
       "      <td>CHI</td>\n",
       "      <td>1981</td>\n",
       "      <td>M</td>\n",
       "      <td>M35</td>\n",
       "      <td>9.501</td>\n",
       "      <td>1</td>\n",
       "      <td>mi</td>\n",
       "      <td>2018-01-06</td>\n",
       "      <td>2018-01-06</td>\n",
       "      <td>0 days 05:15:45</td>\n",
       "    </tr>\n",
       "    <tr>\n",
       "      <th>2</th>\n",
       "      <td>2018</td>\n",
       "      <td>Selva Costera (CHI)</td>\n",
       "      <td>31.07</td>\n",
       "      <td>22</td>\n",
       "      <td>0.00</td>\n",
       "      <td>Puro Trail Osorno</td>\n",
       "      <td>CHI</td>\n",
       "      <td>1987</td>\n",
       "      <td>M</td>\n",
       "      <td>M23</td>\n",
       "      <td>9.472</td>\n",
       "      <td>2</td>\n",
       "      <td>mi</td>\n",
       "      <td>2018-01-06</td>\n",
       "      <td>2018-01-06</td>\n",
       "      <td>0 days 05:16:44</td>\n",
       "    </tr>\n",
       "    <tr>\n",
       "      <th>3</th>\n",
       "      <td>2018</td>\n",
       "      <td>Selva Costera (CHI)</td>\n",
       "      <td>31.07</td>\n",
       "      <td>22</td>\n",
       "      <td>0.00</td>\n",
       "      <td>Columbia</td>\n",
       "      <td>ARG</td>\n",
       "      <td>1976</td>\n",
       "      <td>M</td>\n",
       "      <td>M40</td>\n",
       "      <td>8.976</td>\n",
       "      <td>3</td>\n",
       "      <td>mi</td>\n",
       "      <td>2018-01-06</td>\n",
       "      <td>2018-01-06</td>\n",
       "      <td>0 days 05:34:13</td>\n",
       "    </tr>\n",
       "    <tr>\n",
       "      <th>4</th>\n",
       "      <td>2018</td>\n",
       "      <td>Selva Costera (CHI)</td>\n",
       "      <td>31.07</td>\n",
       "      <td>22</td>\n",
       "      <td>0.00</td>\n",
       "      <td>Baguales Trail</td>\n",
       "      <td>CHI</td>\n",
       "      <td>1992</td>\n",
       "      <td>M</td>\n",
       "      <td>M23</td>\n",
       "      <td>8.469</td>\n",
       "      <td>4</td>\n",
       "      <td>mi</td>\n",
       "      <td>2018-01-06</td>\n",
       "      <td>2018-01-06</td>\n",
       "      <td>0 days 05:54:14</td>\n",
       "    </tr>\n",
       "  </tbody>\n",
       "</table>\n",
       "</div>"
      ],
      "text/plain": [
       "   year_of_event           event_name  distance_or_length  no_of_finishers  \\\n",
       "0           2018  Selva Costera (CHI)               31.07               22   \n",
       "1           2018  Selva Costera (CHI)               31.07               22   \n",
       "2           2018  Selva Costera (CHI)               31.07               22   \n",
       "3           2018  Selva Costera (CHI)               31.07               22   \n",
       "4           2018  Selva Costera (CHI)               31.07               22   \n",
       "\n",
       "   total_distance        athlete_club athlete_country  birth_year gender  \\\n",
       "0            0.00               Tnfrc             CHI        1978      M   \n",
       "1            0.00  Roberto Echeverría             CHI        1981      M   \n",
       "2            0.00   Puro Trail Osorno             CHI        1987      M   \n",
       "3            0.00            Columbia             ARG        1976      M   \n",
       "4            0.00      Baguales Trail             CHI        1992      M   \n",
       "\n",
       "  age_category average_speed  athlete_id race_metric  start_date    end_date  \\\n",
       "0          M35        10.286           0          mi  2018-01-06  2018-01-06   \n",
       "1          M35         9.501           1          mi  2018-01-06  2018-01-06   \n",
       "2          M23         9.472           2          mi  2018-01-06  2018-01-06   \n",
       "3          M40         8.976           3          mi  2018-01-06  2018-01-06   \n",
       "4          M23         8.469           4          mi  2018-01-06  2018-01-06   \n",
       "\n",
       "     fastest_time  \n",
       "0 0 days 04:51:39  \n",
       "1 0 days 05:15:45  \n",
       "2 0 days 05:16:44  \n",
       "3 0 days 05:34:13  \n",
       "4 0 days 05:54:14  "
      ]
     },
     "execution_count": 5,
     "metadata": {},
     "output_type": "execute_result"
    }
   ],
   "source": [
    "# Converting all km measurements to miles\n",
    "\n",
    "km_mask = df['race_metric'] == 'km'\n",
    "df.loc[km_mask, 'distance_or_length'] = df.loc[km_mask,\n",
    "                                               'distance_or_length'] / 1.60934\n",
    "df.loc[km_mask, 'race_metric'] = 'mi'\n",
    "\n",
    "day_mask = df['race_metric'] == 'days'\n",
    "df.loc[day_mask, 'distance_or_length'] = df.loc[day_mask,\n",
    "                                                'distance_or_length'] * 24\n",
    "df.loc[day_mask, 'race_metric'] = 'hours'\n",
    "\n",
    "df.head()"
   ]
  },
  {
   "cell_type": "code",
   "execution_count": 6,
   "metadata": {},
   "outputs": [
    {
     "data": {
      "text/plain": [
       "race_metric\n",
       "mi       6933103\n",
       "hours     526656\n",
       "Name: count, dtype: int64"
      ]
     },
     "execution_count": 6,
     "metadata": {},
     "output_type": "execute_result"
    }
   ],
   "source": [
    "df['race_metric'].value_counts()"
   ]
  },
  {
   "cell_type": "code",
   "execution_count": 41,
   "metadata": {},
   "outputs": [
    {
     "data": {
      "image/png": "[encoded data removed]",
      "text/plain": [
       "<Figure size 2000x2000 with 4 Axes>"
      ]
     },
     "metadata": {},
     "output_type": "display_data"
    }
   ],
   "source": [
    "'''\n",
    "For this visualization I spent quite a while figuring out how to get this to work, as there were a lot of weird technical\n",
    "problems with the data and binning process going into seaborn, but eventually I figured it out.\n",
    "\n",
    "I decided to separate out the top 20%ish of the data as it was completely throwing off the entire figure to where\n",
    "there would be one column that went to the top of the figure and you could barely see the others. Some of these races are a bit\n",
    "over 3000 miles, but that vast majority are within less than 5% of that. The top two figures show that vast majority and their distribution\n",
    "in bins.\n",
    "\n",
    "The data shows that mostly men participate in these races and that participation falls off at around the 24 hour or 70 mile mark.\n",
    "'''\n",
    "\n",
    "sns.set_palette('pastel')\n",
    "sns.set_style('darkgrid')\n",
    "\n",
    "hours_hist_data = df[\n",
    "    (df['race_metric'] == 'hours') & \n",
    "    (df['distance_or_length'] > 1) &\n",
    "    (df['gender'].isin(['M', 'F'])) & \n",
    "    (df['distance_or_length'].notnull())\n",
    "].copy()\n",
    "\n",
    "times_hist_data = df[\n",
    "    (df['race_metric'] == 'mi') & \n",
    "    (df['distance_or_length'] > 1) & \n",
    "    (df['gender'].isin(['M', 'F'])) & \n",
    "    (df['distance_or_length'].notnull())\n",
    "].copy()\n",
    "\n",
    "fig, ax = plt.subplots(2, 2, figsize=(20, 20))\n",
    "sns.histplot(\n",
    "    data=times_hist_data[times_hist_data['distance_or_length'] <= 120],\n",
    "    x='distance_or_length',\n",
    "    hue='gender',\n",
    "    multiple = 'stack',\n",
    "    bins = 20,\n",
    "    ax=ax[0, 0]\n",
    ")\n",
    "\n",
    "sns.histplot(\n",
    "    data=hours_hist_data[hours_hist_data['distance_or_length'] <= 80],\n",
    "    x='distance_or_length',\n",
    "    hue='gender',\n",
    "    multiple= 'stack',\n",
    "    bins = 20,\n",
    "    ax=ax[0, 1]\n",
    ")\n",
    "\n",
    "sns.violinplot(\n",
    "    data=times_hist_data[times_hist_data['distance_or_length'] > 120],\n",
    "    x='distance_or_length',\n",
    "    hue='gender',\n",
    "    ax=ax[1, 0]\n",
    ")\n",
    "\n",
    "sns.violinplot(\n",
    "    data=hours_hist_data[hours_hist_data['distance_or_length'] > 80],\n",
    "    x='distance_or_length',\n",
    "    hue='gender',\n",
    "    ax=ax[1, 1]\n",
    ")\n",
    "\n",
    "ax[0, 0].set_title('Number of racers that ran races of X max distance for the fastest time')\n",
    "ax[0, 0].set_xlabel('Race metric: less than 120 miles')\n",
    "ax[0, 1].set_title('Number of racers that ran races of X max hours for maximum distance')\n",
    "ax[0, 1].set_xlabel('Race metric: less than 80 hours')\n",
    "ax[1, 0].set_xlabel('Race metric: over 120 miles')\n",
    "ax[1, 1].set_xlabel('Race metric: over 80 hours')\n",
    "\n",
    "ax[0, 0].ticklabel_format(style = 'plain', axis = 'y')\n",
    "plt.tight_layout()\n",
    "\n",
    "fig.savefig(f'{fig_path}count_of_runners_by_distance.jpg')"
   ]
  },
  {
   "cell_type": "code",
   "execution_count": 8,
   "metadata": {},
   "outputs": [
    {
     "data": {
      "application/vnd.plotly.v1+json": {
       "config": {
        "plotlyServerURL": "https://plot.ly"
       },
       "data": [
        {
         "coloraxis": "coloraxis",
         "customdata": [
          [
           1389960,
           "1.4 M",
           "USA"
          ],
          [
           1170884,
           "1.2 M",
           "FRA"
          ],
          [
           877630,
           "877.6 K",
           "RSA"
          ],
          [
           603132,
           "603.1 K",
           "JPN"
          ],
          [
           442056,
           "442.1 K",
           "GER"
          ],
          [
           347153,
           "347.2 K",
           "GBR"
          ],
          [
           344076,
           "344.1 K",
           "ITA"
          ],
          [
           232311,
           "232.3 K",
           "ESP"
          ],
          [
           219944,
           "219.9 K",
           "CHN"
          ],
          [
           150761,
           "150.8 K",
           "AUS"
          ],
          [
           143805,
           "143.8 K",
           "TPE"
          ],
          [
           126687,
           "126.7 K",
           "SUI"
          ],
          [
           119860,
           "119.9 K",
           "POL"
          ],
          [
           114081,
           "114.1 K",
           "CAN"
          ],
          [
           77868,
           "77.9 K",
           "BEL"
          ],
          [
           75184,
           "75.2 K",
           "KOR"
          ],
          [
           71258,
           "71.3 K",
           "SWE"
          ],
          [
           59642,
           "59.6 K",
           "HKG"
          ],
          [
           57558,
           "57.6 K",
           "NED"
          ],
          [
           49534,
           "49.5 K",
           "PHI"
          ],
          [
           47502,
           "47.5 K",
           "HUN"
          ],
          [
           46234,
           "46.2 K",
           "AUT"
          ],
          [
           45983,
           "46.0 K",
           "RUS"
          ],
          [
           43708,
           "43.7 K",
           "THA"
          ],
          [
           42802,
           "42.8 K",
           "MAS"
          ],
          [
           37595,
           "37.6 K",
           "POR"
          ],
          [
           36694,
           "36.7 K",
           "CZE"
          ],
          [
           35124,
           "35.1 K",
           "ARG"
          ],
          [
           35009,
           "35.0 K",
           "NZL"
          ],
          [
           32493,
           "32.5 K",
           "NOR"
          ],
          [
           31027,
           "31.0 K",
           "BRA"
          ],
          [
           27010,
           "27.0 K",
           "DEN"
          ],
          [
           26420,
           "26.4 K",
           "FIN"
          ],
          [
           25446,
           "25.4 K",
           "GRE"
          ],
          [
           25313,
           "25.3 K",
           "MEX"
          ],
          [
           21357,
           "21.4 K",
           "IRL"
          ],
          [
           17304,
           "17.3 K",
           "SVK"
          ],
          [
           16677,
           "16.7 K",
           "IND"
          ],
          [
           14505,
           "14.5 K",
           "SGP"
          ],
          [
           12602,
           "12.6 K",
           "SLO"
          ],
          [
           10936,
           "10.9 K",
           "BUL"
          ],
          [
           10721,
           "10.7 K",
           "UKR"
          ],
          [
           10483,
           "10.5 K",
           "ROU"
          ],
          [
           9507,
           "9.5 K",
           "TUR"
          ],
          [
           7516,
           "7.5 K",
           "LAT"
          ],
          [
           7405,
           "7.4 K",
           "CRO"
          ],
          [
           6797,
           "6.8 K",
           "CHI"
          ],
          [
           6572,
           "6.6 K",
           "ISL"
          ],
          [
           6164,
           "6.2 K",
           "SRB"
          ],
          [
           5610,
           "5.6 K",
           "ZIM"
          ],
          [
           5436,
           "5.4 K",
           "ISR"
          ],
          [
           4633,
           "4.6 K",
           "LUX"
          ],
          [
           4287,
           "4.3 K",
           "INA"
          ],
          [
           3919,
           "3.9 K",
           "COL"
          ],
          [
           3841,
           "3.8 K",
           "VIE"
          ],
          [
           3322,
           "3.3 K",
           "LTU"
          ],
          [
           3123,
           "3.1 K",
           "EST"
          ],
          [
           2825,
           "2.8 K",
           "CRC"
          ],
          [
           2689,
           "2.7 K",
           "BLR"
          ],
          [
           2630,
           "2.6 K",
           "PER"
          ],
          [
           2544,
           "2.5 K",
           "ECU"
          ],
          [
           2514,
           "2.5 K",
           "URU"
          ],
          [
           2474,
           "2.5 K",
           "NAM"
          ],
          [
           2379,
           "2.4 K",
           "GUA"
          ],
          [
           2302,
           "2.3 K",
           "MAD"
          ],
          [
           2230,
           "2.2 K",
           "VEN"
          ],
          [
           1783,
           "1.8 K",
           "XXX"
          ],
          [
           1717,
           "1.7 K",
           "BRU"
          ],
          [
           1658,
           "1.7 K",
           "MAR"
          ],
          [
           1658,
           "1.7 K",
           "NEP"
          ],
          [
           1577,
           "1.6 K",
           "MRI"
          ],
          [
           1521,
           "1.5 K",
           "LES"
          ],
          [
           1465,
           "1.5 K",
           "AND"
          ],
          [
           1265,
           "1.3 K",
           "BIH"
          ],
          [
           1226,
           "1.2 K",
           "SWZ"
          ],
          [
           1016,
           "1.0 K",
           "TUN"
          ],
          [
           1004,
           "1.0 K",
           "MGL"
          ],
          [
           934,
           "934",
           "BOT"
          ],
          [
           895,
           "895",
           "MDA"
          ],
          [
           889,
           "889",
           "ALG"
          ],
          [
           876,
           "876",
           "KAZ"
          ],
          [
           864,
           "864",
           "MAC"
          ],
          [
           789,
           "789",
           "PAR"
          ],
          [
           780,
           "780",
           "MKD"
          ],
          [
           706,
           "706",
           "KEN"
          ],
          [
           627,
           "627",
           "MLT"
          ],
          [
           559,
           "559",
           "JOR"
          ],
          [
           546,
           "546",
           "IRI"
          ],
          [
           543,
           "543",
           "CYP"
          ],
          [
           503,
           "503",
           "ESA"
          ],
          [
           473,
           "473",
           "BOL"
          ],
          [
           420,
           "420",
           "SMR"
          ],
          [
           420,
           "420",
           "MAW"
          ],
          [
           418,
           "418",
           "DOM"
          ],
          [
           389,
           "389",
           "ZAM"
          ],
          [
           332,
           "332",
           "KOS"
          ],
          [
           311,
           "311",
           "OMA"
          ],
          [
           291,
           "291",
           "ALB"
          ],
          [
           284,
           "284",
           "MNE"
          ],
          [
           242,
           "242",
           "LIE"
          ],
          [
           236,
           "236",
           "UAE"
          ],
          [
           209,
           "209",
           "PUR"
          ],
          [
           200,
           "200",
           "PAN"
          ],
          [
           187,
           "187",
           "NCA"
          ],
          [
           180,
           "180",
           "CPV"
          ],
          [
           180,
           "180",
           "QAT"
          ],
          [
           179,
           "179",
           "LBN"
          ],
          [
           177,
           "177",
           "NGR"
          ],
          [
           174,
           "174",
           "PAK"
          ],
          [
           171,
           "171",
           "MOZ"
          ],
          [
           166,
           "166",
           "EGY"
          ],
          [
           157,
           "157",
           "CAM"
          ],
          [
           144,
           "144",
           "IVB"
          ],
          [
           142,
           "142",
           "ETH"
          ],
          [
           133,
           "133",
           "MON"
          ],
          [
           129,
           "129",
           "TAN"
          ],
          [
           128,
           "128",
           "GUY"
          ],
          [
           119,
           "119",
           "KSA"
          ],
          [
           113,
           "113",
           "ANG"
          ],
          [
           110,
           "110",
           "UGA"
          ],
          [
           92,
           "92",
           "CAY"
          ],
          [
           90,
           "90",
           "CUB"
          ],
          [
           84,
           "84",
           "HON"
          ],
          [
           81,
           "81",
           "GAB"
          ],
          [
           77,
           "77",
           "CMR"
          ],
          [
           72,
           "72",
           "SEN"
          ],
          [
           68,
           "68",
           "GEO"
          ],
          [
           66,
           "66",
           "COD"
          ],
          [
           61,
           "61",
           "GRL"
          ],
          [
           55,
           "55",
           "COM"
          ],
          [
           54,
           "54",
           "KGZ"
          ],
          [
           53,
           "53",
           "AFG"
          ],
          [
           50,
           "50",
           "SYR"
          ],
          [
           49,
           "49",
           "SRI"
          ],
          [
           47,
           "47",
           "KUW"
          ],
          [
           46,
           "46",
           "SOM"
          ],
          [
           43,
           "43",
           "BER"
          ],
          [
           42,
           "42",
           "AZE"
          ],
          [
           39,
           "39",
           "FRO"
          ],
          [
           39,
           "39",
           "MYA"
          ],
          [
           34,
           "34",
           "GHA"
          ],
          [
           32,
           "32",
           "BRN"
          ],
          [
           30,
           "30",
           "BUR"
          ],
          [
           29,
           "29",
           "CGO"
          ],
          [
           29,
           "29",
           "NIG"
          ],
          [
           29,
           "29",
           "ARM"
          ],
          [
           28,
           "28",
           "BEN"
          ],
          [
           27,
           "27",
           "TRI"
          ],
          [
           27,
           "27",
           "MLI"
          ],
          [
           25,
           "25",
           "IRQ"
          ],
          [
           22,
           "22",
           "BAN"
          ],
          [
           21,
           "21",
           "GAM"
          ],
          [
           21,
           "21",
           "UZB"
          ],
          [
           20,
           "20",
           "MDV"
          ],
          [
           20,
           "20",
           "SUD"
          ],
          [
           20,
           "20",
           "RWA"
          ],
          [
           16,
           "16",
           "ISV"
          ],
          [
           16,
           "16",
           "PLE"
          ],
          [
           16,
           "16",
           "LBA"
          ],
          [
           15,
           "15",
           "BHU"
          ],
          [
           14,
           "14",
           "JAM"
          ],
          [
           13,
           "13",
           "LAO"
          ],
          [
           12,
           "12",
           "CHA"
          ],
          [
           12,
           "12",
           "CIV"
          ],
          [
           11,
           "11",
           "ERI"
          ],
          [
           11,
           "11",
           "STP"
          ],
          [
           11,
           "11",
           "CAF"
          ],
          [
           10,
           "10",
           "PNG"
          ],
          [
           9,
           "9",
           "GUI"
          ],
          [
           9,
           "9",
           "GIB"
          ],
          [
           8,
           "8",
           "BAH"
          ],
          [
           8,
           "8",
           "SEY"
          ],
          [
           8,
           "8",
           "MTN"
          ],
          [
           8,
           "8",
           "GUM"
          ],
          [
           7,
           "7",
           "TJK"
          ],
          [
           7,
           "7",
           "HAI"
          ],
          [
           7,
           "7",
           "TOG"
          ],
          [
           7,
           "7",
           "COK"
          ],
          [
           6,
           "6",
           "SAM"
          ],
          [
           6,
           "6",
           "FIJ"
          ],
          [
           5,
           "5",
           "YUG"
          ],
          [
           5,
           "5",
           "PYF"
          ],
          [
           5,
           "5",
           "DAN"
          ],
          [
           4,
           "4",
           "swe"
          ],
          [
           4,
           "4",
           "TKM"
          ],
          [
           4,
           "4",
           "YEM"
          ],
          [
           3,
           "3",
           "LCA"
          ],
          [
           3,
           "3",
           "SKN"
          ],
          [
           2,
           "2",
           "Ned"
          ],
          [
           2,
           "2",
           "ARU"
          ],
          [
           2,
           "2",
           "TKS"
          ],
          [
           2,
           "2",
           "BIZ"
          ],
          [
           2,
           "2",
           "GRN"
          ],
          [
           2,
           "2",
           "IRE"
          ],
          [
           2,
           "2",
           "NFI"
          ],
          [
           1,
           "1",
           "BDI"
          ],
          [
           1,
           "1",
           "ANT"
          ],
          [
           1,
           "1",
           "MDG"
          ],
          [
           1,
           "1",
           "SVE"
          ],
          [
           1,
           "1",
           "GRB"
          ],
          [
           1,
           "1",
           "TWN"
          ],
          [
           1,
           "1",
           "GBS"
          ],
          [
           1,
           "1",
           "LBR"
          ],
          [
           1,
           "1",
           "AHO"
          ],
          [
           1,
           "1",
           "SLE"
          ],
          [
           1,
           "1",
           "BAR"
          ],
          [
           1,
           "1",
           "TGA"
          ],
          [
           1,
           "1",
           "ACT"
          ]
         ],
         "geo": "geo",
         "hovertemplate": "%{customdata[2]}: %{customdata[1]}<extra></extra>",
         "hovertext": [
          "USA",
          "FRA",
          "RSA",
          "JPN",
          "GER",
          "GBR",
          "ITA",
          "ESP",
          "CHN",
          "AUS",
          "TPE",
          "SUI",
          "POL",
          "CAN",
          "BEL",
          "KOR",
          "SWE",
          "HKG",
          "NED",
          "PHI",
          "HUN",
          "AUT",
          "RUS",
          "THA",
          "MAS",
          "POR",
          "CZE",
          "ARG",
          "NZL",
          "NOR",
          "BRA",
          "DEN",
          "FIN",
          "GRE",
          "MEX",
          "IRL",
          "SVK",
          "IND",
          "SGP",
          "SLO",
          "BUL",
          "UKR",
          "ROU",
          "TUR",
          "LAT",
          "CRO",
          "CHI",
          "ISL",
          "SRB",
          "ZIM",
          "ISR",
          "LUX",
          "INA",
          "COL",
          "VIE",
          "LTU",
          "EST",
          "CRC",
          "BLR",
          "PER",
          "ECU",
          "URU",
          "NAM",
          "GUA",
          "MAD",
          "VEN",
          "XXX",
          "BRU",
          "MAR",
          "NEP",
          "MRI",
          "LES",
          "AND",
          "BIH",
          "SWZ",
          "TUN",
          "MGL",
          "BOT",
          "MDA",
          "ALG",
          "KAZ",
          "MAC",
          "PAR",
          "MKD",
          "KEN",
          "MLT",
          "JOR",
          "IRI",
          "CYP",
          "ESA",
          "BOL",
          "SMR",
          "MAW",
          "DOM",
          "ZAM",
          "KOS",
          "OMA",
          "ALB",
          "MNE",
          "LIE",
          "UAE",
          "PUR",
          "PAN",
          "NCA",
          "CPV",
          "QAT",
          "LBN",
          "NGR",
          "PAK",
          "MOZ",
          "EGY",
          "CAM",
          "IVB",
          "ETH",
          "MON",
          "TAN",
          "GUY",
          "KSA",
          "ANG",
          "UGA",
          "CAY",
          "CUB",
          "HON",
          "GAB",
          "CMR",
          "SEN",
          "GEO",
          "COD",
          "GRL",
          "COM",
          "KGZ",
          "AFG",
          "SYR",
          "SRI",
          "KUW",
          "SOM",
          "BER",
          "AZE",
          "FRO",
          "MYA",
          "GHA",
          "BRN",
          "BUR",
          "CGO",
          "NIG",
          "ARM",
          "BEN",
          "TRI",
          "MLI",
          "IRQ",
          "BAN",
          "GAM",
          "UZB",
          "MDV",
          "SUD",
          "RWA",
          "ISV",
          "PLE",
          "LBA",
          "BHU",
          "JAM",
          "LAO",
          "CHA",
          "CIV",
          "ERI",
          "STP",
          "CAF",
          "PNG",
          "GUI",
          "GIB",
          "BAH",
          "SEY",
          "MTN",
          "GUM",
          "TJK",
          "HAI",
          "TOG",
          "COK",
          "SAM",
          "FIJ",
          "YUG",
          "PYF",
          "DAN",
          "swe",
          "TKM",
          "YEM",
          "LCA",
          "SKN",
          "Ned",
          "ARU",
          "TKS",
          "BIZ",
          "GRN",
          "IRE",
          "NFI",
          "BDI",
          "ANT",
          "MDG",
          "SVE",
          "GRB",
          "TWN",
          "GBS",
          "LBR",
          "AHO",
          "SLE",
          "BAR",
          "TGA",
          "ACT"
         ],
         "locations": [
          "USA",
          "FRA",
          "RSA",
          "JPN",
          "GER",
          "GBR",
          "ITA",
          "ESP",
          "CHN",
          "AUS",
          "TPE",
          "SUI",
          "POL",
          "CAN",
          "BEL",
          "KOR",
          "SWE",
          "HKG",
          "NED",
          "PHI",
          "HUN",
          "AUT",
          "RUS",
          "THA",
          "MAS",
          "POR",
          "CZE",
          "ARG",
          "NZL",
          "NOR",
          "BRA",
          "DEN",
          "FIN",
          "GRE",
          "MEX",
          "IRL",
          "SVK",
          "IND",
          "SGP",
          "SLO",
          "BUL",
          "UKR",
          "ROU",
          "TUR",
          "LAT",
          "CRO",
          "CHI",
          "ISL",
          "SRB",
          "ZIM",
          "ISR",
          "LUX",
          "INA",
          "COL",
          "VIE",
          "LTU",
          "EST",
          "CRC",
          "BLR",
          "PER",
          "ECU",
          "URU",
          "NAM",
          "GUA",
          "MAD",
          "VEN",
          "XXX",
          "BRU",
          "MAR",
          "NEP",
          "MRI",
          "LES",
          "AND",
          "BIH",
          "SWZ",
          "TUN",
          "MGL",
          "BOT",
          "MDA",
          "ALG",
          "KAZ",
          "MAC",
          "PAR",
          "MKD",
          "KEN",
          "MLT",
          "JOR",
          "IRI",
          "CYP",
          "ESA",
          "BOL",
          "SMR",
          "MAW",
          "DOM",
          "ZAM",
          "KOS",
          "OMA",
          "ALB",
          "MNE",
          "LIE",
          "UAE",
          "PUR",
          "PAN",
          "NCA",
          "CPV",
          "QAT",
          "LBN",
          "NGR",
          "PAK",
          "MOZ",
          "EGY",
          "CAM",
          "IVB",
          "ETH",
          "MON",
          "TAN",
          "GUY",
          "KSA",
          "ANG",
          "UGA",
          "CAY",
          "CUB",
          "HON",
          "GAB",
          "CMR",
          "SEN",
          "GEO",
          "COD",
          "GRL",
          "COM",
          "KGZ",
          "AFG",
          "SYR",
          "SRI",
          "KUW",
          "SOM",
          "BER",
          "AZE",
          "FRO",
          "MYA",
          "GHA",
          "BRN",
          "BUR",
          "CGO",
          "NIG",
          "ARM",
          "BEN",
          "TRI",
          "MLI",
          "IRQ",
          "BAN",
          "GAM",
          "UZB",
          "MDV",
          "SUD",
          "RWA",
          "ISV",
          "PLE",
          "LBA",
          "BHU",
          "JAM",
          "LAO",
          "CHA",
          "CIV",
          "ERI",
          "STP",
          "CAF",
          "PNG",
          "GUI",
          "GIB",
          "BAH",
          "SEY",
          "MTN",
          "GUM",
          "TJK",
          "HAI",
          "TOG",
          "COK",
          "SAM",
          "FIJ",
          "YUG",
          "PYF",
          "DAN",
          "swe",
          "TKM",
          "YEM",
          "LCA",
          "SKN",
          "Ned",
          "ARU",
          "TKS",
          "BIZ",
          "GRN",
          "IRE",
          "NFI",
          "BDI",
          "ANT",
          "MDG",
          "SVE",
          "GRB",
          "TWN",
          "GBS",
          "LBR",
          "AHO",
          "SLE",
          "BAR",
          "TGA",
          "ACT"
         ],
         "name": "",
         "type": "choropleth",
         "z": [
          1389960,
          1170884,
          877630,
          603132,
          442056,
          347153,
          344076,
          232311,
          219944,
          150761,
          143805,
          126687,
          119860,
          114081,
          77868,
          75184,
          71258,
          59642,
          57558,
          49534,
          47502,
          46234,
          45983,
          43708,
          42802,
          37595,
          36694,
          35124,
          35009,
          32493,
          31027,
          27010,
          26420,
          25446,
          25313,
          21357,
          17304,
          16677,
          14505,
          12602,
          10936,
          10721,
          10483,
          9507,
          7516,
          7405,
          6797,
          6572,
          6164,
          5610,
          5436,
          4633,
          4287,
          3919,
          3841,
          3322,
          3123,
          2825,
          2689,
          2630,
          2544,
          2514,
          2474,
          2379,
          2302,
          2230,
          1783,
          1717,
          1658,
          1658,
          1577,
          1521,
          1465,
          1265,
          1226,
          1016,
          1004,
          934,
          895,
          889,
          876,
          864,
          789,
          780,
          706,
          627,
          559,
          546,
          543,
          503,
          473,
          420,
          420,
          418,
          389,
          332,
          311,
          291,
          284,
          242,
          236,
          209,
          200,
          187,
          180,
          180,
          179,
          177,
          174,
          171,
          166,
          157,
          144,
          142,
          133,
          129,
          128,
          119,
          113,
          110,
          92,
          90,
          84,
          81,
          77,
          72,
          68,
          66,
          61,
          55,
          54,
          53,
          50,
          49,
          47,
          46,
          43,
          42,
          39,
          39,
          34,
          32,
          30,
          29,
          29,
          29,
          28,
          27,
          27,
          25,
          22,
          21,
          21,
          20,
          20,
          20,
          16,
          16,
          16,
          15,
          14,
          13,
          12,
          12,
          11,
          11,
          11,
          10,
          9,
          9,
          8,
          8,
          8,
          8,
          7,
          7,
          7,
          7,
          6,
          6,
          5,
          5,
          5,
          4,
          4,
          4,
          3,
          3,
          2,
          2,
          2,
          2,
          2,
          2,
          2,
          1,
          1,
          1,
          1,
          1,
          1,
          1,
          1,
          1,
          1,
          1,
          1,
          1
         ]
        }
       ],
       "layout": {
        "coloraxis": {
         "colorbar": {
          "title": {
           "text": "count"
          }
         },
         "colorscale": [
          [
           0,
           "#0d0887"
          ],
          [
           0.1111111111111111,
           "#46039f"
          ],
          [
           0.2222222222222222,
           "#7201a8"
          ],
          [
           0.3333333333333333,
           "#9c179e"
          ],
          [
           0.4444444444444444,
           "#bd3786"
          ],
          [
           0.5555555555555556,
           "#d8576b"
          ],
          [
           0.6666666666666666,
           "#ed7953"
          ],
          [
           0.7777777777777778,
           "#fb9f3a"
          ],
          [
           0.8888888888888888,
           "#fdca26"
          ],
          [
           1,
           "#f0f921"
          ]
         ]
        },
        "geo": {
         "center": {},
         "domain": {
          "x": [
           0,
           1
          ],
          "y": [
           0,
           1
          ]
         }
        },
        "legend": {
         "tracegroupgap": 0
        },
        "margin": {
         "t": 60
        },
        "template": {
         "data": {
          "bar": [
           {
            "error_x": {
             "color": "#2a3f5f"
            },
            "error_y": {
             "color": "#2a3f5f"
            },
            "marker": {
             "line": {
              "color": "#E5ECF6",
              "width": 0.5
             },
             "pattern": {
              "fillmode": "overlay",
              "size": 10,
              "solidity": 0.2
             }
            },
            "type": "bar"
           }
          ],
          "barpolar": [
           {
            "marker": {
             "line": {
              "color": "#E5ECF6",
              "width": 0.5
             },
             "pattern": {
              "fillmode": "overlay",
              "size": 10,
              "solidity": 0.2
             }
            },
            "type": "barpolar"
           }
          ],
          "carpet": [
           {
            "aaxis": {
             "endlinecolor": "#2a3f5f",
             "gridcolor": "white",
             "linecolor": "white",
             "minorgridcolor": "white",
             "startlinecolor": "#2a3f5f"
            },
            "baxis": {
             "endlinecolor": "#2a3f5f",
             "gridcolor": "white",
             "linecolor": "white",
             "minorgridcolor": "white",
             "startlinecolor": "#2a3f5f"
            },
            "type": "carpet"
           }
          ],
          "choropleth": [
           {
            "colorbar": {
             "outlinewidth": 0,
             "ticks": ""
            },
            "type": "choropleth"
           }
          ],
          "contour": [
           {
            "colorbar": {
             "outlinewidth": 0,
             "ticks": ""
            },
            "colorscale": [
             [
              0,
              "#0d0887"
             ],
             [
              0.1111111111111111,
              "#46039f"
             ],
             [
              0.2222222222222222,
              "#7201a8"
             ],
             [
              0.3333333333333333,
              "#9c179e"
             ],
             [
              0.4444444444444444,
              "#bd3786"
             ],
             [
              0.5555555555555556,
              "#d8576b"
             ],
             [
              0.6666666666666666,
              "#ed7953"
             ],
             [
              0.7777777777777778,
              "#fb9f3a"
             ],
             [
              0.8888888888888888,
              "#fdca26"
             ],
             [
              1,
              "#f0f921"
             ]
            ],
            "type": "contour"
           }
          ],
          "contourcarpet": [
           {
            "colorbar": {
             "outlinewidth": 0,
             "ticks": ""
            },
            "type": "contourcarpet"
           }
          ],
          "heatmap": [
           {
            "colorbar": {
             "outlinewidth": 0,
             "ticks": ""
            },
            "colorscale": [
             [
              0,
              "#0d0887"
             ],
             [
              0.1111111111111111,
              "#46039f"
             ],
             [
              0.2222222222222222,
              "#7201a8"
             ],
             [
              0.3333333333333333,
              "#9c179e"
             ],
             [
              0.4444444444444444,
              "#bd3786"
             ],
             [
              0.5555555555555556,
              "#d8576b"
             ],
             [
              0.6666666666666666,
              "#ed7953"
             ],
             [
              0.7777777777777778,
              "#fb9f3a"
             ],
             [
              0.8888888888888888,
              "#fdca26"
             ],
             [
              1,
              "#f0f921"
             ]
            ],
            "type": "heatmap"
           }
          ],
          "heatmapgl": [
           {
            "colorbar": {
             "outlinewidth": 0,
             "ticks": ""
            },
            "colorscale": [
             [
              0,
              "#0d0887"
             ],
             [
              0.1111111111111111,
              "#46039f"
             ],
             [
              0.2222222222222222,
              "#7201a8"
             ],
             [
              0.3333333333333333,
              "#9c179e"
             ],
             [
              0.4444444444444444,
              "#bd3786"
             ],
             [
              0.5555555555555556,
              "#d8576b"
             ],
             [
              0.6666666666666666,
              "#ed7953"
             ],
             [
              0.7777777777777778,
              "#fb9f3a"
             ],
             [
              0.8888888888888888,
              "#fdca26"
             ],
             [
              1,
              "#f0f921"
             ]
            ],
            "type": "heatmapgl"
           }
          ],
          "histogram": [
           {
            "marker": {
             "pattern": {
              "fillmode": "overlay",
              "size": 10,
              "solidity": 0.2
             }
            },
            "type": "histogram"
           }
          ],
          "histogram2d": [
           {
            "colorbar": {
             "outlinewidth": 0,
             "ticks": ""
            },
            "colorscale": [
             [
              0,
              "#0d0887"
             ],
             [
              0.1111111111111111,
              "#46039f"
             ],
             [
              0.2222222222222222,
              "#7201a8"
             ],
             [
              0.3333333333333333,
              "#9c179e"
             ],
             [
              0.4444444444444444,
              "#bd3786"
             ],
             [
              0.5555555555555556,
              "#d8576b"
             ],
             [
              0.6666666666666666,
              "#ed7953"
             ],
             [
              0.7777777777777778,
              "#fb9f3a"
             ],
             [
              0.8888888888888888,
              "#fdca26"
             ],
             [
              1,
              "#f0f921"
             ]
            ],
            "type": "histogram2d"
           }
          ],
          "histogram2dcontour": [
           {
            "colorbar": {
             "outlinewidth": 0,
             "ticks": ""
            },
            "colorscale": [
             [
              0,
              "#0d0887"
             ],
             [
              0.1111111111111111,
              "#46039f"
             ],
             [
              0.2222222222222222,
              "#7201a8"
             ],
             [
              0.3333333333333333,
              "#9c179e"
             ],
             [
              0.4444444444444444,
              "#bd3786"
             ],
             [
              0.5555555555555556,
              "#d8576b"
             ],
             [
              0.6666666666666666,
              "#ed7953"
             ],
             [
              0.7777777777777778,
              "#fb9f3a"
             ],
             [
              0.8888888888888888,
              "#fdca26"
             ],
             [
              1,
              "#f0f921"
             ]
            ],
            "type": "histogram2dcontour"
           }
          ],
          "mesh3d": [
           {
            "colorbar": {
             "outlinewidth": 0,
             "ticks": ""
            },
            "type": "mesh3d"
           }
          ],
          "parcoords": [
           {
            "line": {
             "colorbar": {
              "outlinewidth": 0,
              "ticks": ""
             }
            },
            "type": "parcoords"
           }
          ],
          "pie": [
           {
            "automargin": true,
            "type": "pie"
           }
          ],
          "scatter": [
           {
            "fillpattern": {
             "fillmode": "overlay",
             "size": 10,
             "solidity": 0.2
            },
            "type": "scatter"
           }
          ],
          "scatter3d": [
           {
            "line": {
             "colorbar": {
              "outlinewidth": 0,
              "ticks": ""
             }
            },
            "marker": {
             "colorbar": {
              "outlinewidth": 0,
              "ticks": ""
             }
            },
            "type": "scatter3d"
           }
          ],
          "scattercarpet": [
           {
            "marker": {
             "colorbar": {
              "outlinewidth": 0,
              "ticks": ""
             }
            },
            "type": "scattercarpet"
           }
          ],
          "scattergeo": [
           {
            "marker": {
             "colorbar": {
              "outlinewidth": 0,
              "ticks": ""
             }
            },
            "type": "scattergeo"
           }
          ],
          "scattergl": [
           {
            "marker": {
             "colorbar": {
              "outlinewidth": 0,
              "ticks": ""
             }
            },
            "type": "scattergl"
           }
          ],
          "scattermapbox": [
           {
            "marker": {
             "colorbar": {
              "outlinewidth": 0,
              "ticks": ""
             }
            },
            "type": "scattermapbox"
           }
          ],
          "scatterpolar": [
           {
            "marker": {
             "colorbar": {
              "outlinewidth": 0,
              "ticks": ""
             }
            },
            "type": "scatterpolar"
           }
          ],
          "scatterpolargl": [
           {
            "marker": {
             "colorbar": {
              "outlinewidth": 0,
              "ticks": ""
             }
            },
            "type": "scatterpolargl"
           }
          ],
          "scatterternary": [
           {
            "marker": {
             "colorbar": {
              "outlinewidth": 0,
              "ticks": ""
             }
            },
            "type": "scatterternary"
           }
          ],
          "surface": [
           {
            "colorbar": {
             "outlinewidth": 0,
             "ticks": ""
            },
            "colorscale": [
             [
              0,
              "#0d0887"
             ],
             [
              0.1111111111111111,
              "#46039f"
             ],
             [
              0.2222222222222222,
              "#7201a8"
             ],
             [
              0.3333333333333333,
              "#9c179e"
             ],
             [
              0.4444444444444444,
              "#bd3786"
             ],
             [
              0.5555555555555556,
              "#d8576b"
             ],
             [
              0.6666666666666666,
              "#ed7953"
             ],
             [
              0.7777777777777778,
              "#fb9f3a"
             ],
             [
              0.8888888888888888,
              "#fdca26"
             ],
             [
              1,
              "#f0f921"
             ]
            ],
            "type": "surface"
           }
          ],
          "table": [
           {
            "cells": {
             "fill": {
              "color": "#EBF0F8"
             },
             "line": {
              "color": "white"
             }
            },
            "header": {
             "fill": {
              "color": "#C8D4E3"
             },
             "line": {
              "color": "white"
             }
            },
            "type": "table"
           }
          ]
         },
         "layout": {
          "annotationdefaults": {
           "arrowcolor": "#2a3f5f",
           "arrowhead": 0,
           "arrowwidth": 1
          },
          "autotypenumbers": "strict",
          "coloraxis": {
           "colorbar": {
            "outlinewidth": 0,
            "ticks": ""
           }
          },
          "colorscale": {
           "diverging": [
            [
             0,
             "#8e0152"
            ],
            [
             0.1,
             "#c51b7d"
            ],
            [
             0.2,
             "#de77ae"
            ],
            [
             0.3,
             "#f1b6da"
            ],
            [
             0.4,
             "#fde0ef"
            ],
            [
             0.5,
             "#f7f7f7"
            ],
            [
             0.6,
             "#e6f5d0"
            ],
            [
             0.7,
             "#b8e186"
            ],
            [
             0.8,
             "#7fbc41"
            ],
            [
             0.9,
             "#4d9221"
            ],
            [
             1,
             "#276419"
            ]
           ],
           "sequential": [
            [
             0,
             "#0d0887"
            ],
            [
             0.1111111111111111,
             "#46039f"
            ],
            [
             0.2222222222222222,
             "#7201a8"
            ],
            [
             0.3333333333333333,
             "#9c179e"
            ],
            [
             0.4444444444444444,
             "#bd3786"
            ],
            [
             0.5555555555555556,
             "#d8576b"
            ],
            [
             0.6666666666666666,
             "#ed7953"
            ],
            [
             0.7777777777777778,
             "#fb9f3a"
            ],
            [
             0.8888888888888888,
             "#fdca26"
            ],
            [
             1,
             "#f0f921"
            ]
           ],
           "sequentialminus": [
            [
             0,
             "#0d0887"
            ],
            [
             0.1111111111111111,
             "#46039f"
            ],
            [
             0.2222222222222222,
             "#7201a8"
            ],
            [
             0.3333333333333333,
             "#9c179e"
            ],
            [
             0.4444444444444444,
             "#bd3786"
            ],
            [
             0.5555555555555556,
             "#d8576b"
            ],
            [
             0.6666666666666666,
             "#ed7953"
            ],
            [
             0.7777777777777778,
             "#fb9f3a"
            ],
            [
             0.8888888888888888,
             "#fdca26"
            ],
            [
             1,
             "#f0f921"
            ]
           ]
          },
          "colorway": [
           "#636efa",
           "#EF553B",
           "#00cc96",
           "#ab63fa",
           "#FFA15A",
           "#19d3f3",
           "#FF6692",
           "#B6E880",
           "#FF97FF",
           "#FECB52"
          ],
          "font": {
           "color": "#2a3f5f"
          },
          "geo": {
           "bgcolor": "white",
           "lakecolor": "white",
           "landcolor": "#E5ECF6",
           "showlakes": true,
           "showland": true,
           "subunitcolor": "white"
          },
          "hoverlabel": {
           "align": "left"
          },
          "hovermode": "closest",
          "mapbox": {
           "style": "light"
          },
          "paper_bgcolor": "white",
          "plot_bgcolor": "#E5ECF6",
          "polar": {
           "angularaxis": {
            "gridcolor": "white",
            "linecolor": "white",
            "ticks": ""
           },
           "bgcolor": "#E5ECF6",
           "radialaxis": {
            "gridcolor": "white",
            "linecolor": "white",
            "ticks": ""
           }
          },
          "scene": {
           "xaxis": {
            "backgroundcolor": "#E5ECF6",
            "gridcolor": "white",
            "gridwidth": 2,
            "linecolor": "white",
            "showbackground": true,
            "ticks": "",
            "zerolinecolor": "white"
           },
           "yaxis": {
            "backgroundcolor": "#E5ECF6",
            "gridcolor": "white",
            "gridwidth": 2,
            "linecolor": "white",
            "showbackground": true,
            "ticks": "",
            "zerolinecolor": "white"
           },
           "zaxis": {
            "backgroundcolor": "#E5ECF6",
            "gridcolor": "white",
            "gridwidth": 2,
            "linecolor": "white",
            "showbackground": true,
            "ticks": "",
            "zerolinecolor": "white"
           }
          },
          "shapedefaults": {
           "line": {
            "color": "#2a3f5f"
           }
          },
          "ternary": {
           "aaxis": {
            "gridcolor": "white",
            "linecolor": "white",
            "ticks": ""
           },
           "baxis": {
            "gridcolor": "white",
            "linecolor": "white",
            "ticks": ""
           },
           "bgcolor": "#E5ECF6",
           "caxis": {
            "gridcolor": "white",
            "linecolor": "white",
            "ticks": ""
           }
          },
          "title": {
           "x": 0.05
          },
          "xaxis": {
           "automargin": true,
           "gridcolor": "white",
           "linecolor": "white",
           "ticks": "",
           "title": {
            "standoff": 15
           },
           "zerolinecolor": "white",
           "zerolinewidth": 2
          },
          "yaxis": {
           "automargin": true,
           "gridcolor": "white",
           "linecolor": "white",
           "ticks": "",
           "title": {
            "standoff": 15
           },
           "zerolinecolor": "white",
           "zerolinewidth": 2
          }
         }
        }
       }
      }
     },
     "metadata": {},
     "output_type": "display_data"
    }
   ],
   "source": [
    "'''\n",
    "Here I wanted to create a heat map showing where the most ultra runners come from.\n",
    "Using the 3 letter code for country and taking the amount of times it appears in \n",
    "appears in the dataset, which is to say it shows how many times a person from a certain country signed\n",
    "up for an ultra marathon and participated in it as well.\n",
    "\n",
    "I was not suprised to see that the US was high up on this list, as there are a very large amount of\n",
    "ultra marathons, I would also think that the vast majority of them occur here in the US. I was a little bit\n",
    "surprised to see that France and Japan were 2nd and 3rd, where France was quite close to the US, which\n",
    "surprised me seeing as how it is much smaller than the US. \n",
    "\n",
    "Outside of that countries that are having the most sign ups are countries surrounding France, Canada, China and Australia.\n",
    "'''\n",
    "\n",
    "country_counts = df['athlete_country'].value_counts().reset_index()\n",
    "\n",
    "def format_hover_text(val):\n",
    "    if val >= 1e6:\n",
    "        return f'{val / 1e6:.1f} M'\n",
    "    elif val >= 1e3:\n",
    "        return f'{val / 1e3:.1f} K'\n",
    "    else:\n",
    "        return f'{val}'\n",
    "\n",
    "country_counts['formatted_vals'] = country_counts['count'].apply(\n",
    "    format_hover_text)\n",
    "\n",
    "fig = px.choropleth(\n",
    "    country_counts,\n",
    "    locations='athlete_country',\n",
    "    color='count',\n",
    "    hover_name='athlete_country',\n",
    "    hover_data={\n",
    "        'count': False,\n",
    "        'formatted_vals': True,\n",
    "        'athlete_country': False\n",
    "    },\n",
    "    color_continuous_scale=px.colors.sequential.Plasma\n",
    ")\n",
    "for trace in fig.data:\n",
    "    trace.hovertemplate = '%{customdata[2]}: %{customdata[1]}<extra></extra>'\n",
    "fig.write_image(f'{fig_path}athletes_per_county.jpg')\n",
    "fig.show()"
   ]
  },
  {
   "cell_type": "code",
   "execution_count": 9,
   "metadata": {},
   "outputs": [
    {
     "data": {
      "image/png": "[encoded data removed]",
      "text/plain": [
       "<Figure size 1000x500 with 2 Axes>"
      ]
     },
     "metadata": {},
     "output_type": "display_data"
    }
   ],
   "source": [
    "'''\n",
    "Creating a new dataframe to be used with a scatter plot showing the age distribution\n",
    "over gender and race participation.\n",
    "\n",
    "In the data there seems to be some bad values in terms of age, such as negative values, values over 100,\n",
    "so I filtered out values under 15 and over 95. Although ultra marathons are extremely intense, children \n",
    "have participated in them in the past. I once did a race where this kid who was somewhere between\n",
    "12 and 16 years old or so, he ran 100 miles in that race, so I did want to include some of those lower values.\n",
    "'''\n",
    "\n",
    "athlete_races = df[['athlete_id', 'gender',\n",
    "                    'year_of_event', 'birth_year']].copy()\n",
    "athlete_races['gender'] = athlete_races['gender'].astype('category')\n",
    "athlete_races['race_age'] = athlete_races['year_of_event'] - \\\n",
    "    athlete_races['birth_year']\n",
    "race_counts = athlete_races['athlete_id'].value_counts()\n",
    "athlete_races['race_count'] = athlete_races['athlete_id'].map(race_counts)\n",
    "athlete_races.drop(columns=['year_of_event', 'birth_year'], inplace=True)\n",
    "proper_ages = athlete_races[(athlete_races['race_age'] < 95) & (\n",
    "    athlete_races['race_age'] > 14)].copy().reset_index()\n",
    "custom_ticks = [0, 200, 400, 600, 800]\n",
    "\n",
    "\n",
    "fig, ax = plt.subplots(1, 2, figsize=(10, 5))\n",
    "\n",
    "bin_m = proper_ages[proper_ages['gender'] == 'M'].sample(frac=0.1)\n",
    "bin_f = proper_ages[proper_ages['gender'] == 'F'].sample(frac=0.1)\n",
    "\n",
    "sns.scatterplot(data=bin_m, x='race_count', y='race_age', ax=ax[0])\n",
    "ax[0].set_title(f'Athlete ages and amount of races completed for men')\n",
    "ax[0].set_xlabel('# of races finished')\n",
    "ax[0].set_ylabel('Age')\n",
    "ax[0].set_xticks(ticks=custom_ticks, labels=custom_ticks)\n",
    "ax[0].legend([f'{len(bin_m)} male athletes'])\n",
    "\n",
    "sns.scatterplot(data=bin_f[bin_f['race_count'] < 1000],\n",
    "                x='race_count', y='race_age', color='pink', ax=ax[1])\n",
    "ax[1].set_title(f'Athlete ages and amount of races completed for women')\n",
    "ax[1].set_xlabel('# of races finished')\n",
    "ax[1].set_ylabel('Age')\n",
    "ax[1].set_xticks(ticks=custom_ticks, labels=custom_ticks)\n",
    "ax[1].legend([f'{len(bin_f)} female athletes'])\n",
    "plt.tight_layout()\n",
    "fig.savefig(f'{fig_path}athlete_ages_and_number_of_races_completed.jpg')"
   ]
  },
  {
   "cell_type": "code",
   "execution_count": 10,
   "metadata": {},
   "outputs": [
    {
     "data": {
      "text/html": [
       "<div>\n",
       "<style scoped>\n",
       "    .dataframe tbody tr th:only-of-type {\n",
       "        vertical-align: middle;\n",
       "    }\n",
       "\n",
       "    .dataframe tbody tr th {\n",
       "        vertical-align: top;\n",
       "    }\n",
       "\n",
       "    .dataframe thead th {\n",
       "        text-align: right;\n",
       "    }\n",
       "</style>\n",
       "<table border=\"1\" class=\"dataframe\">\n",
       "  <thead>\n",
       "    <tr style=\"text-align: right;\">\n",
       "      <th></th>\n",
       "      <th>year_of_event</th>\n",
       "      <th>event_name</th>\n",
       "      <th>distance_or_length</th>\n",
       "      <th>no_of_finishers</th>\n",
       "      <th>total_distance</th>\n",
       "      <th>athlete_club</th>\n",
       "      <th>athlete_country</th>\n",
       "      <th>birth_year</th>\n",
       "      <th>gender</th>\n",
       "      <th>age_category</th>\n",
       "      <th>average_speed</th>\n",
       "      <th>athlete_id</th>\n",
       "      <th>race_metric</th>\n",
       "      <th>start_date</th>\n",
       "      <th>end_date</th>\n",
       "      <th>fastest_time</th>\n",
       "    </tr>\n",
       "  </thead>\n",
       "  <tbody>\n",
       "    <tr>\n",
       "      <th>2476993</th>\n",
       "      <td>2019</td>\n",
       "      <td>Running Festival Wychwood December 20 Days (RSA)</td>\n",
       "      <td>480.00</td>\n",
       "      <td>15</td>\n",
       "      <td>1004.50</td>\n",
       "      <td>Unknown</td>\n",
       "      <td>USA</td>\n",
       "      <td>1938</td>\n",
       "      <td>M</td>\n",
       "      <td>M80</td>\n",
       "      <td>2.093</td>\n",
       "      <td>76752</td>\n",
       "      <td>hours</td>\n",
       "      <td>2019-12-12</td>\n",
       "      <td>2020-01-01</td>\n",
       "      <td>0 days</td>\n",
       "    </tr>\n",
       "    <tr>\n",
       "      <th>7121236</th>\n",
       "      <td>1987</td>\n",
       "      <td>Sri Chinmoy Ultra Trio 1300,1000,700 Mile Race...</td>\n",
       "      <td>432.00</td>\n",
       "      <td>24</td>\n",
       "      <td>912.50</td>\n",
       "      <td>Ozone Park,NY</td>\n",
       "      <td>USA</td>\n",
       "      <td>1949</td>\n",
       "      <td>M</td>\n",
       "      <td>M35</td>\n",
       "      <td>2112.00</td>\n",
       "      <td>1312053</td>\n",
       "      <td>hours</td>\n",
       "      <td>1987-06-05</td>\n",
       "      <td>1987-06-23</td>\n",
       "      <td>0 days</td>\n",
       "    </tr>\n",
       "    <tr>\n",
       "      <th>7167145</th>\n",
       "      <td>1988</td>\n",
       "      <td>Sri Chinmoy Ultra Trio 1300 Mile Race (USA)</td>\n",
       "      <td>432.00</td>\n",
       "      <td>2</td>\n",
       "      <td>1886.15</td>\n",
       "      <td>Kleinostheim</td>\n",
       "      <td>GER</td>\n",
       "      <td>1962</td>\n",
       "      <td>M</td>\n",
       "      <td>M23</td>\n",
       "      <td>4366.00</td>\n",
       "      <td>391606</td>\n",
       "      <td>hours</td>\n",
       "      <td>1988-05-20</td>\n",
       "      <td>1988-06-07</td>\n",
       "      <td>0 days</td>\n",
       "    </tr>\n",
       "    <tr>\n",
       "      <th>1643202</th>\n",
       "      <td>2017</td>\n",
       "      <td>Ultimate Circuits South Africa 16 Day Challeng...</td>\n",
       "      <td>384.00</td>\n",
       "      <td>5</td>\n",
       "      <td>1001.01</td>\n",
       "      <td>Cleveland, OH</td>\n",
       "      <td>USA</td>\n",
       "      <td>1948</td>\n",
       "      <td>M</td>\n",
       "      <td>M65</td>\n",
       "      <td>2.607</td>\n",
       "      <td>34750</td>\n",
       "      <td>hours</td>\n",
       "      <td>2017-07-22</td>\n",
       "      <td>2017-08-07</td>\n",
       "      <td>0 days</td>\n",
       "    </tr>\n",
       "    <tr>\n",
       "      <th>3769586</th>\n",
       "      <td>1999</td>\n",
       "      <td>12 Days Race Latvia (LAT)</td>\n",
       "      <td>288.00</td>\n",
       "      <td>12</td>\n",
       "      <td>216.00</td>\n",
       "      <td>LSC-Ann.</td>\n",
       "      <td>LAT</td>\n",
       "      <td>1939</td>\n",
       "      <td>F</td>\n",
       "      <td>W55</td>\n",
       "      <td>0.75</td>\n",
       "      <td>1097874</td>\n",
       "      <td>hours</td>\n",
       "      <td>1999-09-20</td>\n",
       "      <td>1999-10-02</td>\n",
       "      <td>0 days</td>\n",
       "    </tr>\n",
       "  </tbody>\n",
       "</table>\n",
       "</div>"
      ],
      "text/plain": [
       "         year_of_event                                         event_name  \\\n",
       "2476993           2019   Running Festival Wychwood December 20 Days (RSA)   \n",
       "7121236           1987  Sri Chinmoy Ultra Trio 1300,1000,700 Mile Race...   \n",
       "7167145           1988        Sri Chinmoy Ultra Trio 1300 Mile Race (USA)   \n",
       "1643202           2017  Ultimate Circuits South Africa 16 Day Challeng...   \n",
       "3769586           1999                          12 Days Race Latvia (LAT)   \n",
       "\n",
       "         distance_or_length  no_of_finishers  total_distance   athlete_club  \\\n",
       "2476993              480.00               15         1004.50        Unknown   \n",
       "7121236              432.00               24          912.50  Ozone Park,NY   \n",
       "7167145              432.00                2         1886.15   Kleinostheim   \n",
       "1643202              384.00                5         1001.01  Cleveland, OH   \n",
       "3769586              288.00               12          216.00       LSC-Ann.   \n",
       "\n",
       "        athlete_country  birth_year gender age_category average_speed  \\\n",
       "2476993             USA        1938      M          M80         2.093   \n",
       "7121236             USA        1949      M          M35       2112.00   \n",
       "7167145             GER        1962      M          M23       4366.00   \n",
       "1643202             USA        1948      M          M65         2.607   \n",
       "3769586             LAT        1939      F          W55          0.75   \n",
       "\n",
       "         athlete_id race_metric  start_date    end_date fastest_time  \n",
       "2476993       76752       hours  2019-12-12  2020-01-01       0 days  \n",
       "7121236     1312053       hours  1987-06-05  1987-06-23       0 days  \n",
       "7167145      391606       hours  1988-05-20  1988-06-07       0 days  \n",
       "1643202       34750       hours  2017-07-22  2017-08-07       0 days  \n",
       "3769586     1097874       hours  1999-09-20  1999-10-02       0 days  "
      ]
     },
     "execution_count": 10,
     "metadata": {},
     "output_type": "execute_result"
    }
   ],
   "source": [
    "# Creating dataframes, one with the data for only the winners of races that are timed by a fixed distance,\n",
    "# and the other being the winners of races that have a fixed time frame where you can run for as much\n",
    "# distance as you can in that time frame.\n",
    "\n",
    "winners_time = df[\n",
    "    (df['fastest_time'] > pd.to_timedelta(0, unit='hours')) &\n",
    "    (df['race_metric'] == 'mi')\n",
    "].sort_values(by='fastest_time', ascending=True).drop_duplicates(subset='event_name')\n",
    "\n",
    "winners_distance = df[\n",
    "    (df['distance_or_length'] > 0) &\n",
    "    (df['race_metric'] == 'hours')\n",
    "].sort_values(by='distance_or_length', ascending=False).drop_duplicates(subset='event_name')\n",
    "\n",
    "winners_distance.head()"
   ]
  },
  {
   "cell_type": "code",
   "execution_count": 11,
   "metadata": {},
   "outputs": [
    {
     "data": {
      "text/plain": [
       "((21084, 16), (5829, 16))"
      ]
     },
     "execution_count": 11,
     "metadata": {},
     "output_type": "execute_result"
    }
   ],
   "source": [
    "# Checking to see the shape of the data, there are about 26000 different races in the dataset so everything looks good here.\n",
    "\n",
    "winners_time.shape, winners_distance.shape"
   ]
  },
  {
   "cell_type": "code",
   "execution_count": 12,
   "metadata": {},
   "outputs": [
    {
     "data": {
      "text/plain": [
       "athlete_id\n",
       "24893      166\n",
       "36441       66\n",
       "475391      53\n",
       "43644       48\n",
       "4625        47\n",
       "          ... \n",
       "1222152      1\n",
       "273295       1\n",
       "1253035      1\n",
       "1223528      1\n",
       "255909       1\n",
       "Name: count, Length: 11840, dtype: int64"
      ]
     },
     "execution_count": 12,
     "metadata": {},
     "output_type": "execute_result"
    }
   ],
   "source": [
    "# Create new dataframes from the previously sorted ones, separating them by gender and finding the athletes\n",
    "# that have the most 1st place victories.\n",
    "\n",
    "winner_time_M = winners_time[winners_time['gender']\n",
    "                             == 'M']['athlete_id'].value_counts()\n",
    "winner_time_F = winners_time[winners_time['gender']\n",
    "                             == 'F']['athlete_id'].value_counts()\n",
    "\n",
    "winner_distance_M = winners_distance[winners_distance['gender']\n",
    "                                     == 'M']['athlete_id'].value_counts()\n",
    "winner_distance_F = winners_distance[winners_distance['gender']\n",
    "                                     == 'F']['athlete_id'].value_counts()\n",
    "\n",
    "winner_time_M"
   ]
  },
  {
   "cell_type": "code",
   "execution_count": 13,
   "metadata": {},
   "outputs": [
    {
     "data": {
      "text/html": [
       "<div>\n",
       "<style scoped>\n",
       "    .dataframe tbody tr th:only-of-type {\n",
       "        vertical-align: middle;\n",
       "    }\n",
       "\n",
       "    .dataframe tbody tr th {\n",
       "        vertical-align: top;\n",
       "    }\n",
       "\n",
       "    .dataframe thead th {\n",
       "        text-align: right;\n",
       "    }\n",
       "</style>\n",
       "<table border=\"1\" class=\"dataframe\">\n",
       "  <thead>\n",
       "    <tr style=\"text-align: right;\">\n",
       "      <th></th>\n",
       "      <th>athlete_id</th>\n",
       "      <th>total_count</th>\n",
       "    </tr>\n",
       "  </thead>\n",
       "  <tbody>\n",
       "    <tr>\n",
       "      <th>0</th>\n",
       "      <td>24893</td>\n",
       "      <td>166.00</td>\n",
       "    </tr>\n",
       "    <tr>\n",
       "      <th>1</th>\n",
       "      <td>36441</td>\n",
       "      <td>66.00</td>\n",
       "    </tr>\n",
       "    <tr>\n",
       "      <th>2</th>\n",
       "      <td>475391</td>\n",
       "      <td>53.00</td>\n",
       "    </tr>\n",
       "    <tr>\n",
       "      <th>3</th>\n",
       "      <td>43644</td>\n",
       "      <td>49.00</td>\n",
       "    </tr>\n",
       "    <tr>\n",
       "      <th>4</th>\n",
       "      <td>4625</td>\n",
       "      <td>47.00</td>\n",
       "    </tr>\n",
       "  </tbody>\n",
       "</table>\n",
       "</div>"
      ],
      "text/plain": [
       "   athlete_id  total_count\n",
       "0       24893       166.00\n",
       "1       36441        66.00\n",
       "2      475391        53.00\n",
       "3       43644        49.00\n",
       "4        4625        47.00"
      ]
     },
     "execution_count": 13,
     "metadata": {},
     "output_type": "execute_result"
    }
   ],
   "source": [
    "# Merging the dataframes for distance and time races on athlete id so that the total amount\n",
    "# of races won by a certain athlete can be seen.\n",
    "\n",
    "merge_men = pd.merge(winner_distance_M, winner_time_M,\n",
    "                     on='athlete_id', how='outer', suffixes=('_1', '_2'))\n",
    "merge_women = pd.merge(winner_distance_F, winner_time_F,\n",
    "                       on='athlete_id', how='outer', suffixes=('_1', '_2'))\n",
    "\n",
    "merge_men.fillna(0, inplace=True)\n",
    "merge_women.fillna(0, inplace=True)\n",
    "\n",
    "merge_men['total_count'] = merge_men['count_1'] + merge_men['count_2']\n",
    "merge_women['total_count'] = merge_women['count_1'] + merge_women['count_2']\n",
    "\n",
    "merge_men.drop(['count_1', 'count_2'], inplace=True, axis=1)\n",
    "merge_women.drop(['count_1', 'count_2'], inplace=True, axis=1)\n",
    "\n",
    "merge_men.sort_values(by='total_count', ascending=False, inplace=True)\n",
    "merge_women.sort_values(by='total_count', ascending=False, inplace=True)\n",
    "\n",
    "merge_men = merge_men.reset_index()\n",
    "merge_women = merge_women.reset_index()\n",
    "\n",
    "merge_men.head()"
   ]
  },
  {
   "cell_type": "code",
   "execution_count": 14,
   "metadata": {},
   "outputs": [
    {
     "data": {
      "image/png": "[encoded data removed]",
      "text/plain": [
       "<Figure size 1000x500 with 2 Axes>"
      ]
     },
     "metadata": {},
     "output_type": "display_data"
    }
   ],
   "source": [
    "# Creating a figure showing the top 15 athletes that have won the most races in their gender\n",
    "\n",
    "fig, ax = plt.subplots(1, 2, figsize=(10, 5))\n",
    "x = np.arange(1, 16, 1)\n",
    "sns.barplot(data=merge_men.head(15), x=x, y='total_count', ax=ax[0])\n",
    "sns.barplot(data=merge_women.head(15), x=x, y='total_count', ax=ax[1])\n",
    "ax[0].set_title('Top 15 male racers with the most wins')\n",
    "ax[0].set_xlabel('# of times 1st place was achieved')\n",
    "ax[0].set_ylabel('# of 1st place wins')\n",
    "ax[1].set_title('Top 15 female racers with the most wins')\n",
    "ax[1].set_xlabel('# of times 1st place was achieved')\n",
    "ax[1].set_ylabel('# of 1st place wins')\n",
    "ax[1].set_yticks(np.arange(0, 19, 3))\n",
    "plt.tight_layout()"
   ]
  },
  {
   "cell_type": "code",
   "execution_count": 15,
   "metadata": {},
   "outputs": [
    {
     "data": {
      "text/plain": [
       "(81, 526575)"
      ]
     },
     "execution_count": 15,
     "metadata": {},
     "output_type": "execute_result"
    }
   ],
   "source": [
    "# Checking to see how many values have invalid values for total distance and how many are valid\n",
    "\n",
    "((df['race_metric'] == 'hours') & (df['total_distance'] == 0)).sum(\n",
    "), ((df['race_metric'] == 'hours') & (df['total_distance'] > 0)).sum()"
   ]
  },
  {
   "cell_type": "code",
   "execution_count": 16,
   "metadata": {},
   "outputs": [],
   "source": [
    "'''\n",
    "Counting the amount of overall winners there are for each gender and race format (time and distance), overall winners being the person that got\n",
    "1st place out of all men AND women. While it is pretty rare, sometimes the women to beat out all the men and\n",
    "women in a race. A shining example of this would be the legendary Courtney Dauwalter, a ultra runner that still\n",
    "holds the course record at one of the most popular ultra marathons in the world, the 240 mile race, Moab 240 in Utah, USA.\n",
    "'''\n",
    "\n",
    "winners_overall_by_hours = df[\n",
    "    (df['race_metric'] == 'hours') &\n",
    "    (df['distance_or_length'] > 0)\n",
    "].sort_values(by='total_distance', ascending=False).drop_duplicates(subset='event_name')\n",
    "male_victors_hours = (winners_overall_by_hours['gender'] == 'M').sum()\n",
    "female_victors_hours = (winners_overall_by_hours['gender'] == 'F').sum()\n",
    "\n",
    "winners_overall_by_time = df[\n",
    "    (df['race_metric'] == 'mi') &\n",
    "    (df['fastest_time'] > pd.to_timedelta(0, unit='m'))\n",
    "].sort_values(by='fastest_time', ascending=True).drop_duplicates(subset='event_name')\n",
    "male_victors_time = (winners_overall_by_time['gender'] == 'M').sum()\n",
    "female_victors_time = (winners_overall_by_time['gender'] == 'F').sum()"
   ]
  },
  {
   "cell_type": "code",
   "execution_count": 35,
   "metadata": {},
   "outputs": [
    {
     "data": {
      "image/png": "[encoded data removed]",
      "text/plain": [
       "<Figure size 800x800 with 1 Axes>"
      ]
     },
     "metadata": {},
     "output_type": "display_data"
    }
   ],
   "source": [
    "# Showing the percentage of overall victors for each gender and race format\n",
    "\n",
    "total_victors = male_victors_hours + female_victors_hours + \\\n",
    "    male_victors_time + female_victors_time\n",
    "labels = ['Male victors in max distance races', 'Male victors in timed races',\n",
    "          'Female victors in max distance ', 'Female victors in timed races']\n",
    "sizes = [\n",
    "    (male_victors_hours / total_victors) * 100,\n",
    "    (male_victors_time / total_victors) * 100,\n",
    "    (female_victors_hours / total_victors) * 100,\n",
    "    (female_victors_time / total_victors) * 100\n",
    "]\n",
    "explode = [0, 0, 0.1, 0.1]\n",
    "cmap = plt.get_cmap('terrain', 8)\n",
    "colors = [cmap(i) for i in range(0, 4)]\n",
    "\n",
    "plt.figure(figsize=(8, 8))\n",
    "plt.pie(sizes, explode=explode, autopct='%1.1f%%',\n",
    "        startangle=140, colors=colors)\n",
    "plt.axis('equal')\n",
    "plt.title('Percentages of overall 1st place winners by gender', fontsize=18)\n",
    "plt.legend(labels, loc='upper right')\n",
    "plt.savefig(f'{fig_path}overall_victors_by_gender.jpg')\n",
    "plt.show()"
   ]
  }
 ],
 "metadata": {
  "kernelspec": {
   "display_name": "base",
   "language": "python",
   "name": "python3"
  },
  "language_info": {
   "codemirror_mode": {
    "name": "ipython",
    "version": 3
   },
   "file_extension": ".py",
   "mimetype": "text/x-python",
   "name": "python",
   "nbconvert_exporter": "python",
   "pygments_lexer": "ipython3",
   "version": "3.11.5"
  }
 },
 "nbformat": 4,
 "nbformat_minor": 2
}
